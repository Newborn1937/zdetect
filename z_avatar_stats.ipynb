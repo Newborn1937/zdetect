{
  "cells": [
    {
      "cell_type": "markdown",
      "metadata": {
        "id": "view-in-github",
        "colab_type": "text"
      },
      "source": [
        "<a href=\"https://colab.research.google.com/github/Newborn1937/zdetect/blob/main/z_avatar_stats.ipynb\" target=\"_parent\"><img src=\"https://colab.research.google.com/assets/colab-badge.svg\" alt=\"Open In Colab\"/></a>"
      ]
    },
    {
      "cell_type": "code",
      "execution_count": null,
      "id": "759ea936",
      "metadata": {
        "id": "759ea936"
      },
      "outputs": [],
      "source": [
        "import os\n",
        "from pathlib import Path\n",
        "import pickle\n",
        "\n",
        "import datetime\n",
        "import gdown\n",
        "import matplotlib.dates as mdates\n",
        "import matplotlib.pyplot as plt\n",
        "import numpy as np\n",
        "import pandas as pd\n",
        "from tqdm import tqdm\n",
        "\n",
        "# Load utilities\n",
        "urls = ['https://raw.githubusercontent.com/Newborn1937/zdetect/main/vk_utils.py',\n",
        "        'https://raw.githubusercontent.com/Newborn1937/zdetect/main/reg_dates.py']\n",
        "for url in urls:\n",
        "  gdown.download(url, quiet=True)\n",
        "\n",
        "from reg_dates import get_user_reg_date"
      ]
    },
    {
      "cell_type": "markdown",
      "id": "96715bff",
      "metadata": {
        "id": "96715bff"
      },
      "source": [
        "#### Settings"
      ]
    },
    {
      "cell_type": "code",
      "execution_count": null,
      "id": "54ca2eba",
      "metadata": {
        "id": "54ca2eba"
      },
      "outputs": [],
      "source": [
        "DIRPATH_ROOT = Path(r'D:\\WORK\\zresult')\n",
        "GROUP_NAMES = ['putin_z']\n",
        "\n",
        "time_interval = '2021_22'\n",
        "#time_interval = 'all'\n",
        "\n",
        "# User idx for '2021_22' interval\n",
        "USER_ID_RANGE_2021_22 = (6.82e8, 7.33e8)\n",
        "\n",
        "need_get_z_idx_from_fnames = False\n",
        "\n",
        "group_data = {}\n",
        "for group_name in GROUP_NAMES:\n",
        "    group_data[group_name] = {\n",
        "        'fpath_users_info': DIRPATH_ROOT / 'members_info' / f'{group_name}_members.pkl',\n",
        "        'dirpath_work': DIRPATH_ROOT / group_name,\n",
        "        'fpaths_z': [DIRPATH_ROOT / group_name / 'avatars' / f'{group_name}_z']\n",
        "    }"
      ]
    },
    {
      "cell_type": "markdown",
      "id": "78a4396e",
      "metadata": {
        "id": "78a4396e"
      },
      "source": [
        "#### Analyze users' info: active, last seen, has an avatar"
      ]
    },
    {
      "cell_type": "code",
      "execution_count": null,
      "id": "2110e5a0",
      "metadata": {
        "id": "2110e5a0"
      },
      "outputs": [],
      "source": [
        "#### Load users' info from disk\n",
        "for group in group_data.values():\n",
        "    with open(group['fpath_users_info'], 'rb') as fid:\n",
        "        users = pickle.load(fid)\n",
        "    if isinstance(users, list):\n",
        "        users = {user['id']: user for user in users}\n",
        "    group['users'] = users"
      ]
    },
    {
      "cell_type": "code",
      "execution_count": null,
      "id": "3c12666f",
      "metadata": {
        "id": "3c12666f",
        "outputId": "f6d3456b-fbc4-46d2-c692-10279ce539a2"
      },
      "outputs": [
        {
          "name": "stdout",
          "output_type": "stream",
          "text": [
            "==== GROUP: putin_z ====\n",
            "Total: 18114\n",
            "Active: 18114  (active / total: 1.00)\n",
            "With_photo: 13983 (with_photo / active: 0.77)\n",
            "Seen_during_war: 18007 (seen_during_war / active: 0.99)\n",
            "\n"
          ]
        }
      ],
      "source": [
        "def categorize_users(group):\n",
        "\n",
        "    # All sampled users\n",
        "    users = group['users']\n",
        "    user_idx = list(users.keys())\n",
        "    user_idx = np.array(user_idx)\n",
        "\n",
        "    # Take subset of users\n",
        "    mask = ((user_idx > USER_ID_RANGE_2021_22[0]) &\n",
        "            (user_idx < USER_ID_RANGE_2021_22[1]))\n",
        "    if time_interval == '2021_22':\n",
        "        user_idx = user_idx[mask]\n",
        "\n",
        "    # Active / inactive users\n",
        "    user_idx_active = [user_id for user_id in user_idx\n",
        "                       if 'deactivated' not in users[user_id]]\n",
        "    user_idx_active = np.array(user_idx_active)\n",
        "\n",
        "    # Users who have avatars\n",
        "    user_idx_photo = [user_id for user_id in user_idx_active\n",
        "                      if users[user_id]['has_photo'] == True]\n",
        "    user_idx_photo = np.array(user_idx_photo)\n",
        "\n",
        "    # Users with information about 'last seen' date\n",
        "    user_idx_last_seen = [user_id for user_id in user_idx_active\n",
        "                          if 'last_seen' in users[user_id].keys()]\n",
        "    user_idx_last_seen = np.array(user_idx_last_seen)\n",
        "\n",
        "    # Dates at which users were last seen\n",
        "    last_seen_vec = {\n",
        "        user_id: datetime.datetime.fromtimestamp(users[user_id]['last_seen']['time'])\n",
        "        for user_id in user_idx_last_seen\n",
        "    }\n",
        "\n",
        "    # Users who were last seen after the beginning of the war\n",
        "    war_start_date = datetime.datetime.strptime('24-02-2022', '%d-%m-%Y').date()\n",
        "    user_idx_seen_during_war = [user_id for user_id in user_idx_last_seen\n",
        "                                if last_seen_vec[user_id].date() >= war_start_date]\n",
        "    user_idx_seen_during_war = np.array(user_idx_seen_during_war)\n",
        "\n",
        "    # Users with avatars, who were last seen after the beginning of the war\n",
        "    user_idx_photo_seen_during_war = [\n",
        "            user_id for user_id in user_idx_last_seen\n",
        "            if users[user_id]['has_photo'] == True\n",
        "            and last_seen_vec[user_id].date() >= war_start_date]\n",
        "    user_idx_photo_seen_during_war = np.array(user_idx_photo_seen_during_war)\n",
        "\n",
        "    group |= {\n",
        "        'user_idx': user_idx,\n",
        "        'user_idx_active': user_idx_active,\n",
        "        'user_idx_photo': user_idx_photo,\n",
        "        'user_idx_last_seen': user_idx_last_seen,\n",
        "        'last_seen_vec': last_seen_vec,\n",
        "        'user_idx_seen_during_war': user_idx_seen_during_war,\n",
        "        'user_idx_photo_seen_during_war': user_idx_photo_seen_during_war\n",
        "    }\n",
        "\n",
        "    # Print summary\n",
        "    Nsampled = len(user_idx)\n",
        "    Nactive = len(user_idx_active)\n",
        "    Nphoto = len(user_idx_photo)\n",
        "    Nseen = len(user_idx_seen_during_war)\n",
        "    print(f'==== GROUP: {group_name} ====')\n",
        "    print(f'Total: {Nsampled}')\n",
        "    print(f'Active: {Nactive}  (active / total: {Nactive / Nsampled :.02f})')\n",
        "    print(f'With_photo: {Nphoto}  (with_photo / active: {Nphoto / Nactive :.02f})')\n",
        "    print(f'Seen_during_war: {Nseen}  (seen_during_war / active: {Nseen / Nactive :.02f})')\n",
        "    print()\n",
        "\n",
        "\n",
        "#### Categorize the users\n",
        "for group in group_data.values():\n",
        "    categorize_users(group)"
      ]
    },
    {
      "cell_type": "markdown",
      "id": "07dd5903",
      "metadata": {
        "id": "07dd5903"
      },
      "source": [
        "#### Find users with Z-avatars"
      ]
    },
    {
      "cell_type": "code",
      "execution_count": null,
      "id": "79b9b7fd",
      "metadata": {
        "id": "79b9b7fd",
        "outputId": "30ffbb38-7e2b-4c2e-a9ab-d9acf740d3b3"
      },
      "outputs": [
        {
          "name": "stdout",
          "output_type": "stream",
          "text": [
            "==== GROUP: putin_z ====\n",
            "Z_users: 683 (Z_users / with_photo: 0.05)\n",
            "Z_users seen during war: 47 (Z_users_seen / Z_users: 0.07)\n",
            "\n"
          ]
        }
      ],
      "source": [
        "def find_z_users(group):\n",
        "\n",
        "    if need_get_z_idx_from_fnames:\n",
        "        # Get indices of z-users from filenames\n",
        "        files = []\n",
        "        for fpath in group['fpaths_z']:\n",
        "            files += os.listdir(fpath)\n",
        "        user_idx_z = np.array([int(fname[:-4]) for fname in files])\n",
        "\n",
        "        # Save the indices\n",
        "        fpath_z_idx = group['dirpath_work'] / f'z_user_idx_{time_interval}.npy'\n",
        "        np.save(fpath_z_idx, user_idx_z)\n",
        "\n",
        "    else:\n",
        "        # Load the indices\n",
        "        fpath_z_idx = group['dirpath_work'] / f'z_user_idx_{time_interval}.npy'\n",
        "        user_idx_z = np.load(fpath_z_idx)\n",
        "\n",
        "    # Z-users who was seen during the war\n",
        "    user_idx_z_seen_during_war = [user_id for user_id in user_idx_z\n",
        "                                  if user_id in group['user_idx_photo_seen_during_war']]\n",
        "    user_idx_z_seen_during_war = np.array(user_idx_z_seen_during_war)\n",
        "\n",
        "    # Check that all z-users were active during the war\n",
        "    for user_id in user_idx_z:\n",
        "        if ((user_id in group['user_idx_last_seen']) and\n",
        "            (user_id not in group['user_idx_seen_during_war'])):\n",
        "            last_seen = group['ast_seen_vec'][user_id]\n",
        "            print(f'Z-user {user_id} was last seen {last_seen}')\n",
        "\n",
        "    group |= {\n",
        "        'user_idx_z': user_idx_z,\n",
        "        'user_idx_z_seen_during_war': user_idx_z_seen_during_war\n",
        "    }\n",
        "\n",
        "    # Print summary\n",
        "    Nz = len(user_idx_z)\n",
        "    Nz_seen = len(user_idx_z_seen_during_war)\n",
        "    print(f'==== GROUP: {group_name} ====')\n",
        "    print(f'Z_users: {Nz}  (Z_users / with_photo: {Nz / len(group[\"user_idx_photo\"]) :.02f})')\n",
        "    print(f'Z_users seen during war: {Nz_seen}  (Z_users_seen / Z_users: {Nz_seen / Nz :.02f})')\n",
        "    print()\n",
        "\n",
        "\n",
        "#### Find z-users\n",
        "for group in group_data.values():\n",
        "    find_z_users(group)"
      ]
    },
    {
      "cell_type": "markdown",
      "id": "5f3af854",
      "metadata": {
        "id": "5f3af854"
      },
      "source": [
        "#### Calculate user disributions by their registration dates"
      ]
    },
    {
      "cell_type": "code",
      "execution_count": null,
      "id": "1bdf5819",
      "metadata": {
        "id": "1bdf5819"
      },
      "outputs": [],
      "source": [
        "#### Calculate histograms\n",
        "def calc_user_histograms(group):\n",
        "    # Histograms: all, active\n",
        "    nbins = 50\n",
        "    h_all, hbins = np.histogram(group['user_idx'], nbins)\n",
        "    h_active, _ = np.histogram(group['user_idx_active'], hbins)\n",
        "    h_all_norm = h_all / np.sum(h_all)\n",
        "    h_active_norm = h_active / np.sum(h_active)\n",
        "\n",
        "    # Histogram and percentage of users having avatars\n",
        "    h_photo, _ = np.histogram(group['user_idx_photo'], hbins)\n",
        "    perc_photo_act = h_photo / h_active\n",
        "\n",
        "    # Histogram and percentage of users seen during the war\n",
        "    h_last_seen, _ = np.histogram(group['user_idx_last_seen'], hbins)\n",
        "    h_war, _ = np.histogram(group['user_idx_seen_during_war'], hbins)\n",
        "    h_war_photo, _ = np.histogram(group['user_idx_photo_seen_during_war'], hbins)\n",
        "    perc_lastseen_act = h_last_seen / h_active\n",
        "    perc_warphoto_photo = h_war_photo / h_photo\n",
        "\n",
        "    # Histogram of z-users\n",
        "    h_z, _ = np.histogram(group['user_idx_z'], hbins)\n",
        "    h_war_z, _ = np.histogram(group['user_idx_z_seen_during_war'], hbins)\n",
        "    perc_z_photo = h_z / h_photo\n",
        "    perc_warz_warphoto = h_war_z / h_war_photo\n",
        "\n",
        "    group |= {'hbins': hbins, 'h_all': h_all, 'h_active': h_active,\n",
        "              'h_all_norm': h_all_norm, 'h_active_norm': h_active_norm,\n",
        "              'h_photo': h_photo, 'perc_photo_act': perc_photo_act,\n",
        "              'h_last_seen': h_last_seen, 'perc_lastseen_act': perc_lastseen_act,\n",
        "              'h_war': h_war, 'h_war_photo': h_war_photo,\n",
        "              'perc_warphoto_photo': perc_warphoto_photo,\n",
        "              'h_z': h_z, 'h_war_z': h_war_z, 'perc_z_photo': perc_z_photo,\n",
        "              'perc_warz_warphoto': perc_warz_warphoto\n",
        "             }"
      ]
    },
    {
      "cell_type": "code",
      "execution_count": null,
      "id": "0a9e04aa",
      "metadata": {
        "id": "0a9e04aa"
      },
      "outputs": [],
      "source": [
        "#### Convert histogram bins from user idx to dates\n",
        "def hist_bins_to_reg_dates(group, need_get_reg_dates=False):\n",
        "\n",
        "    fpath_reg_dates = Path(group['dirpath_work']) / f'reg_dates_{time_interval}.csv'\n",
        "    hbins = group['hbins']\n",
        "\n",
        "    if not fpath_reg_dates.exists() or need_get_reg_dates:\n",
        "        # User ID -> Rregistration date\n",
        "        hbins_t = []\n",
        "        for hbin in tqdm(hbins):\n",
        "            hbins_t.append(get_user_reg_date(int(hbin)))\n",
        "        hbins_t = np.asarray(hbins_t)\n",
        "\n",
        "        # Fill None's\n",
        "        hbins_tfix = hbins_t.copy()\n",
        "        for n in range(1, len(hbins_t) - 1):\n",
        "            if hbins_t[n] is None:\n",
        "                tvec_L = np.flip(hbins_t[:n])\n",
        "                tvec_R = hbins_t[(n + 1):]\n",
        "                kL = np.argwhere(tvec_L != None)[0][0]\n",
        "                kR = np.argwhere(tvec_R != None)[0][0]\n",
        "                nL = n - kL - 1\n",
        "                nR = n + kR + 1\n",
        "                alpha = (hbins[n] - hbins[nL]) / (hbins[nR] - hbins[nL])\n",
        "                tc = hbins_t[nL] + alpha * (hbins_t[nR] - hbins_t[nL])\n",
        "                hbins_tfix[n] = tc\n",
        "        hbins_t = hbins_tfix\n",
        "\n",
        "        # Save ID-date mapping\n",
        "        df = pd.DataFrame({'ID': hbins.astype(int), 'reg_date': hbins_t})\n",
        "        df.to_csv(fpath_reg_dates, index=False)\n",
        "\n",
        "    else:\n",
        "        # Load the existing ID-date mapping\n",
        "        df = pd.read_csv(fpath_reg_dates, parse_dates=['reg_date'])\n",
        "        hbins_t = df['reg_date'].to_numpy()\n",
        "        #hbins_t = np.array([datetime.date.fromisoformat(d) for d in hbins_t])\n",
        "\n",
        "        # Check user ID consistency\n",
        "        hbins_loaded = df['ID'].to_numpy()\n",
        "        if not np.all(hbins_loaded == hbins.astype(int)):\n",
        "            raise ValueError('Loaded user IDs are inconsistent with histogram bins')\n",
        "\n",
        "    group['hbins_t'] = hbins_t"
      ]
    },
    {
      "cell_type": "code",
      "execution_count": null,
      "id": "8b72b20e",
      "metadata": {
        "id": "8b72b20e"
      },
      "outputs": [],
      "source": [
        "#### Calculate user idx histograms and convert itx to reg dates\n",
        "for group in group_data.values():\n",
        "    calc_user_histograms(group)\n",
        "    hist_bins_to_reg_dates(group)"
      ]
    },
    {
      "cell_type": "markdown",
      "id": "2fa3a893",
      "metadata": {
        "id": "2fa3a893"
      },
      "source": [
        "#### Visualize the results"
      ]
    },
    {
      "cell_type": "code",
      "execution_count": null,
      "id": "5646dd13",
      "metadata": {
        "id": "5646dd13",
        "outputId": "9fd8b499-998e-4af3-87f5-f3375120be41"
      },
      "outputs": [
        {
          "data": {
            "image/png": "[encoded data removed]",
            "text/plain": [
              "<Figure size 640x480 with 1 Axes>"
            ]
          },
          "metadata": {},
          "output_type": "display_data"
        }
      ],
      "source": [
        "def smooth(y, kernel_sz):\n",
        "    #K = np.ones(kernel_sz)\n",
        "    K = np.hanning(kernel_sz + 2)[1 : -1]\n",
        "    K = K / np.sum(K)\n",
        "    y_smooth = np.convolve(y, K, mode='same')\n",
        "    return y_smooth\n",
        "\n",
        "def plot_with_dates(tvec, xvec, title_str, label, style='-', linewidth=1):\n",
        "    ax = plt.gca()\n",
        "    plt.xticks(rotation=70)\n",
        "    plt.plot([], [])\n",
        "    plt.plot(tvec, xvec, style, linewidth=linewidth, label=label)\n",
        "    plt.xlabel('Days')\n",
        "    plt.legend()\n",
        "    plt.title(title_str)\n",
        "    if time_interval == '2021_22':\n",
        "        ax.xaxis.set_major_locator(mdates.DayLocator(interval=15))\n",
        "        ax.xaxis.set_major_formatter(mdates.DateFormatter('%d.%m.%y'))\n",
        "    else:\n",
        "        ax.xaxis.set_major_locator(mdates.MonthLocator(interval=6))\n",
        "        ax.xaxis.set_major_formatter(mdates.DateFormatter('%m.%y'))\n",
        "\n",
        "\n",
        "perc_z_photo[np.isnan(perc_z_photo)] = 0\n",
        "perc_warz_warphoto[np.isnan(perc_warz_warphoto)] = 0\n",
        "\n",
        "#col = 'b'\n",
        "col = 'r'\n",
        "\n",
        "# Plot number of users with photo\n",
        "plot_with_dates(hbins_t[1:], h_photo, style=f'{col}', linewidth=1,\n",
        "                title_str='Number of users with photo', label=GROUP_NAME)"
      ]
    }
  ],
  "metadata": {
    "kernelspec": {
      "display_name": "pytorch2",
      "language": "python",
      "name": "python3"
    },
    "language_info": {
      "codemirror_mode": {
        "name": "ipython",
        "version": 3
      },
      "file_extension": ".py",
      "mimetype": "text/x-python",
      "name": "python",
      "nbconvert_exporter": "python",
      "pygments_lexer": "ipython3",
      "version": "3.11.11"
    },
    "colab": {
      "provenance": [],
      "include_colab_link": true
    }
  },
  "nbformat": 4,
  "nbformat_minor": 5
}