{
  "nbformat": 4,
  "nbformat_minor": 0,
  "metadata": {
    "colab": {
      "name": "\"vk_group_members.ipynb\"",
      "provenance": [],
      "collapsed_sections": [],
      "include_colab_link": true
    },
    "kernelspec": {
      "name": "python3",
      "display_name": "Python 3"
    },
    "language_info": {
      "name": "python"
    },
    "gpuClass": "standard"
  },
  "cells": [
    {
      "cell_type": "markdown",
      "metadata": {
        "id": "view-in-github",
        "colab_type": "text"
      },
      "source": [
        "<a href=\"https://colab.research.google.com/github/Newborn1937/zdetect/blob/main/vk_group_members_ipynb.ipynb\" target=\"_parent\"><img src=\"https://colab.research.google.com/assets/colab-badge.svg\" alt=\"Open In Colab\"/></a>"
      ]
    },
    {
      "cell_type": "markdown",
      "source": [
        "### Get group members from vk"
      ],
      "metadata": {
        "id": "CPjHUU4jMIkz"
      }
    },
    {
      "cell_type": "code",
      "source": [
        "# Install vk api\n",
        "!pip install vk==2.0.2\n",
        "\n",
        "import gdown\n",
        "\n",
        "# Load utility for high-level interaction with vk\n",
        "url = 'https://raw.githubusercontent.com/Newborn1937/zdetect/main/vk_utils.py'\n",
        "gdown.download(url)"
      ],
      "metadata": {
        "id": "vuSZjIjUzlW1"
      },
      "execution_count": null,
      "outputs": []
    },
    {
      "cell_type": "code",
      "source": [
        "import vk_utils\n",
        "\n",
        "# Initialize vk api\n",
        "vk = vk_utils.VkAPI()"
      ],
      "metadata": {
        "id": "iGlWGEnO0WTs"
      },
      "execution_count": null,
      "outputs": []
    },
    {
      "cell_type": "code",
      "source": [
        "from google.colab import files\n",
        "import pickle\n",
        "\n",
        "# Put group names or indices here\n",
        "group_idx = {'russia', 'zogolovok'}\n",
        "\n",
        "# Get group members from vk\n",
        "members = {}\n",
        "for group_id in group_idx:\n",
        "  members[group_id] = vk.load_group_members(\n",
        "      group_id, ntoload='all', offset=0, sort_type='id_desc', fields=None)\n",
        "\n",
        "# Store members' data to the collab virtual drive\n",
        "#fname_out = f'{group_id}_members.pkl'\n",
        "#with open(fname_out, 'wb') as fid:\n",
        "#  pickle.dump(members, fid)\n",
        "\n",
        "# Download members' data to the local drive\n",
        "#files.download(fname_out)\n"
      ],
      "metadata": {
        "id": "DdZt5piozzQV"
      },
      "execution_count": null,
      "outputs": []
    },
    {
      "cell_type": "code",
      "source": [
        "import matplotlib.pyplot as plt\n",
        "import numpy as np\n",
        "\n",
        "nbins = 100\n",
        "hbins = None\n",
        "h = {}\n",
        "\n",
        "# Calculate histograms of member indices\n",
        "for group_id in group_idx:\n",
        "  member_idx = np.array(members[group_id])\n",
        "  if hbins is None:\n",
        "    hh, hbins = np.histogram(member_idx, nbins)\n",
        "  else:\n",
        "    hh, _ = np.histogram(member_idx, hbins)\n",
        "  hh = hh / np.sum(hh)\n",
        "  h[group_id] = hh\n",
        "\n",
        "# Visualize the result\n",
        "plt.figure()\n",
        "for group_id in group_idx:\n",
        "  plt.plot(hbins[1:], h[group_id], label=group_id)\n",
        "plt.xlabel('User ID')\n",
        "plt.legend()\n"
      ],
      "metadata": {
        "id": "El_Tb4cK-Qif"
      },
      "execution_count": null,
      "outputs": []
    },
    {
      "cell_type": "code",
      "source": [
        "\n"
      ],
      "metadata": {
        "id": "tIn-K2WX_DDo"
      },
      "execution_count": null,
      "outputs": []
    }
  ]
}