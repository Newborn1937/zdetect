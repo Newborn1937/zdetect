{
  "nbformat": 4,
  "nbformat_minor": 0,
  "metadata": {
    "colab": {
      "name": "\"vk_group_members.ipynb\"",
      "provenance": [],
      "collapsed_sections": [],
      "include_colab_link": true
    },
    "kernelspec": {
      "name": "python3",
      "display_name": "Python 3"
    },
    "language_info": {
      "name": "python"
    },
    "gpuClass": "standard"
  },
  "cells": [
    {
      "cell_type": "markdown",
      "metadata": {
        "id": "view-in-github",
        "colab_type": "text"
      },
      "source": [
        "<a href=\"https://colab.research.google.com/github/Newborn1937/zdetect/blob/main/vk_group_members_ipynb.ipynb\" target=\"_parent\"><img src=\"https://colab.research.google.com/assets/colab-badge.svg\" alt=\"Open In Colab\"/></a>"
      ]
    },
    {
      "cell_type": "markdown",
      "source": [
        "### 1. Get group members from vk"
      ],
      "metadata": {
        "id": "CPjHUU4jMIkz"
      }
    },
    {
      "cell_type": "code",
      "source": [
        "# Install vk api\n",
        "!pip install vk==2.0.2\n",
        "\n",
        "import gdown\n",
        "\n",
        "# Load utility for high-level interaction with vk\n",
        "url = 'https://raw.githubusercontent.com/Newborn1937/zdetect/main/vk_utils.py'\n",
        "gdown.download(url)"
      ],
      "metadata": {
        "colab": {
          "base_uri": "https://localhost:8080/",
          "height": 385
        },
        "id": "vuSZjIjUzlW1",
        "outputId": "8334aa4e-cce2-408e-f105-09e8033355f0"
      },
      "execution_count": 1,
      "outputs": [
        {
          "output_type": "stream",
          "name": "stdout",
          "text": [
            "Looking in indexes: https://pypi.org/simple, https://us-python.pkg.dev/colab-wheels/public/simple/\n",
            "Collecting vk==2.0.2\n",
            "  Downloading vk-2.0.2.tar.gz (7.0 kB)\n",
            "Requirement already satisfied: requests<3.0,>=2.8 in /usr/local/lib/python3.7/dist-packages (from vk==2.0.2) (2.23.0)\n",
            "Requirement already satisfied: urllib3!=1.25.0,!=1.25.1,<1.26,>=1.21.1 in /usr/local/lib/python3.7/dist-packages (from requests<3.0,>=2.8->vk==2.0.2) (1.24.3)\n",
            "Requirement already satisfied: idna<3,>=2.5 in /usr/local/lib/python3.7/dist-packages (from requests<3.0,>=2.8->vk==2.0.2) (2.10)\n",
            "Requirement already satisfied: certifi>=2017.4.17 in /usr/local/lib/python3.7/dist-packages (from requests<3.0,>=2.8->vk==2.0.2) (2022.6.15)\n",
            "Requirement already satisfied: chardet<4,>=3.0.2 in /usr/local/lib/python3.7/dist-packages (from requests<3.0,>=2.8->vk==2.0.2) (3.0.4)\n",
            "Building wheels for collected packages: vk\n",
            "  Building wheel for vk (setup.py) ... \u001b[?25l\u001b[?25hdone\n",
            "  Created wheel for vk: filename=vk-2.0.2-py3-none-any.whl size=8278 sha256=177be01427b4b80c37ad4454bd70d1ef4df86067bc3f9724bcfaa686d710c6d5\n",
            "  Stored in directory: /root/.cache/pip/wheels/7b/d0/2b/d07628ebced43577b8001d0c9d716f972059535bbaadb1eb9d\n",
            "Successfully built vk\n",
            "Installing collected packages: vk\n",
            "Successfully installed vk-2.0.2\n"
          ]
        },
        {
          "output_type": "stream",
          "name": "stderr",
          "text": [
            "Downloading...\n",
            "From: https://raw.githubusercontent.com/Newborn1937/zdetect/main/vk_utils.py\n",
            "To: /content/vk_utils.py\n",
            "8.20kB [00:00, 8.73MB/s]                   \n"
          ]
        },
        {
          "output_type": "execute_result",
          "data": {
            "text/plain": [
              "'vk_utils.py'"
            ],
            "application/vnd.google.colaboratory.intrinsic+json": {
              "type": "string"
            }
          },
          "metadata": {},
          "execution_count": 1
        }
      ]
    },
    {
      "cell_type": "code",
      "source": [
        "import vk_utils\n",
        "\n",
        "# Initialize vk api\n",
        "vk = vk_utils.VkAPI()"
      ],
      "metadata": {
        "id": "iGlWGEnO0WTs"
      },
      "execution_count": 2,
      "outputs": []
    },
    {
      "cell_type": "code",
      "source": [
        "from google.colab import files\n",
        "import pickle\n",
        "\n",
        "group_idx = {'russia', 'zogolovok'}\n",
        "\n",
        "# Get group members from vk\n",
        "members = {}\n",
        "for group_id in group_idx:\n",
        "  members[group_id] = vk.load_group_members(\n",
        "      group_id, ntoload='all', offset=0, sort_type='id_desc', fields=None)\n",
        "\n",
        "# Store members' data to the collab virtual drive\n",
        "#fname_out = f'{group_id}_members.pkl'\n",
        "#with open(fname_out, 'wb') as fid:\n",
        "#  pickle.dump(members, fid)\n",
        "\n",
        "# Download members' data to the local drive\n",
        "#files.download(fname_out)\n"
      ],
      "metadata": {
        "colab": {
          "base_uri": "https://localhost:8080/"
        },
        "id": "DdZt5piozzQV",
        "outputId": "4ede136e-67ab-4500-99ce-d2e2c09801e0"
      },
      "execution_count": 3,
      "outputs": [
        {
          "output_type": "stream",
          "name": "stdout",
          "text": [
            "Count: 1000 / 78969\n",
            "Count: 2000 / 78969\n",
            "Count: 3000 / 78969\n",
            "Count: 4000 / 78969\n",
            "Count: 5000 / 78969\n",
            "Count: 6000 / 78969\n",
            "Count: 7000 / 78969\n",
            "Count: 8000 / 78969\n",
            "Count: 9000 / 78969\n",
            "Count: 10000 / 78969\n",
            "Count: 11000 / 78969\n",
            "Count: 12000 / 78969\n",
            "Count: 13000 / 78969\n",
            "Count: 14000 / 78969\n",
            "Count: 15000 / 78969\n",
            "Count: 16000 / 78969\n",
            "Count: 17000 / 78969\n",
            "Count: 18000 / 78969\n",
            "Count: 19000 / 78969\n",
            "Count: 20000 / 78969\n",
            "Count: 21000 / 78969\n",
            "Count: 22000 / 78969\n",
            "Count: 23000 / 78969\n",
            "Count: 24000 / 78969\n",
            "Count: 25000 / 78969\n",
            "Count: 26000 / 78969\n",
            "Count: 27000 / 78969\n",
            "Count: 28000 / 78969\n",
            "Count: 29000 / 78969\n",
            "Count: 30000 / 78969\n",
            "Count: 31000 / 78969\n",
            "Count: 32000 / 78969\n",
            "Count: 33000 / 78969\n",
            "Count: 34000 / 78969\n",
            "Count: 35000 / 78969\n",
            "Count: 36000 / 78969\n",
            "Count: 37000 / 78969\n",
            "Count: 38000 / 78969\n",
            "Count: 39000 / 78969\n",
            "Count: 40000 / 78969\n",
            "Count: 41000 / 78969\n",
            "Count: 42000 / 78969\n",
            "Count: 43000 / 78969\n",
            "Count: 44000 / 78969\n",
            "Count: 45000 / 78969\n",
            "Count: 46000 / 78969\n",
            "Count: 47000 / 78969\n",
            "Count: 48000 / 78969\n",
            "Count: 49000 / 78969\n",
            "Count: 50000 / 78969\n",
            "Count: 51000 / 78969\n",
            "Count: 52000 / 78969\n",
            "Count: 53000 / 78969\n",
            "Count: 54000 / 78969\n",
            "Count: 55000 / 78969\n",
            "Count: 56000 / 78969\n",
            "Count: 57000 / 78969\n",
            "Count: 58000 / 78969\n",
            "Count: 59000 / 78969\n",
            "Count: 60000 / 78969\n",
            "Count: 61000 / 78969\n",
            "Count: 62000 / 78969\n",
            "Count: 63000 / 78969\n",
            "Count: 64000 / 78969\n",
            "Count: 65000 / 78969\n",
            "Count: 66000 / 78969\n",
            "Count: 67000 / 78969\n",
            "Count: 68000 / 78969\n",
            "Count: 69000 / 78969\n",
            "Count: 70000 / 78969\n",
            "Count: 71000 / 78969\n",
            "Count: 72000 / 78969\n",
            "Count: 73000 / 78969\n",
            "Count: 74000 / 78969\n",
            "Count: 75000 / 78969\n",
            "Count: 76000 / 78969\n",
            "Count: 77000 / 78969\n",
            "Count: 78000 / 78969\n",
            "Count: 78970 / 78969\n",
            "Count: 1000 / 79052\n",
            "Count: 2000 / 79052\n",
            "Count: 3000 / 79052\n",
            "Count: 4000 / 79052\n",
            "Count: 5000 / 79052\n",
            "Count: 6000 / 79052\n",
            "Count: 7000 / 79052\n",
            "Count: 8000 / 79052\n",
            "Count: 9000 / 79052\n",
            "Count: 10000 / 79052\n",
            "Count: 11000 / 79052\n",
            "Count: 12000 / 79052\n",
            "Count: 13000 / 79052\n",
            "Count: 14000 / 79052\n",
            "Count: 15000 / 79052\n",
            "Count: 16000 / 79052\n",
            "Count: 17000 / 79052\n",
            "Count: 18000 / 79052\n",
            "Count: 19000 / 79052\n",
            "Count: 20000 / 79052\n",
            "Count: 21000 / 79052\n",
            "Count: 22000 / 79052\n",
            "Count: 23000 / 79052\n",
            "Count: 24000 / 79052\n",
            "Count: 25000 / 79052\n",
            "Count: 26000 / 79052\n",
            "Count: 27000 / 79052\n",
            "Count: 28000 / 79052\n",
            "Count: 29000 / 79052\n",
            "Count: 30000 / 79052\n",
            "Count: 31000 / 79052\n",
            "Count: 32000 / 79052\n",
            "Count: 33000 / 79052\n",
            "Count: 34000 / 79052\n",
            "Count: 35000 / 79052\n",
            "Count: 36000 / 79052\n",
            "Count: 37000 / 79052\n",
            "Count: 38000 / 79052\n",
            "Count: 39000 / 79052\n",
            "Count: 40000 / 79052\n",
            "Count: 41000 / 79052\n",
            "Count: 42000 / 79052\n",
            "Count: 43000 / 79052\n",
            "Count: 44000 / 79052\n",
            "Count: 45000 / 79052\n",
            "Count: 46000 / 79052\n",
            "Count: 47000 / 79052\n",
            "Count: 48000 / 79052\n",
            "Count: 49000 / 79052\n",
            "Count: 50000 / 79052\n",
            "Count: 51000 / 79052\n",
            "Count: 52000 / 79052\n",
            "Count: 53000 / 79052\n",
            "Count: 54000 / 79052\n",
            "Count: 55000 / 79052\n",
            "Count: 56000 / 79052\n",
            "Count: 57000 / 79052\n",
            "Count: 58000 / 79052\n",
            "Count: 59000 / 79052\n",
            "Count: 60000 / 79052\n",
            "Count: 61000 / 79052\n",
            "Count: 62000 / 79052\n",
            "Count: 63000 / 79052\n",
            "Count: 64000 / 79052\n",
            "Count: 65000 / 79052\n",
            "Count: 66000 / 79052\n",
            "Count: 67000 / 79052\n",
            "Count: 68000 / 79052\n",
            "Count: 69000 / 79052\n",
            "Count: 70000 / 79052\n",
            "Count: 71000 / 79052\n",
            "Count: 72000 / 79052\n",
            "Count: 73000 / 79052\n",
            "Count: 74000 / 79052\n",
            "Count: 75000 / 79052\n",
            "Count: 76000 / 79052\n",
            "Count: 77000 / 79052\n",
            "Count: 78000 / 79052\n",
            "Count: 79000 / 79052\n",
            "Count: 79053 / 79052\n"
          ]
        }
      ]
    },
    {
      "cell_type": "code",
      "source": [
        "import matplotlib.pyplot as plt\n",
        "import numpy as np\n",
        "\n",
        "nbins = 100\n",
        "hbins = None\n",
        "h = {}\n",
        "\n",
        "for group_id in group_idx:\n",
        "  member_idx = np.array(members[group_id])\n",
        "  if hbins is None:\n",
        "    hh, hbins = np.histogram(member_idx, nbins)\n",
        "  else:\n",
        "    hh, _ = np.histogram(member_idx, hbins)\n",
        "  hh = hh / np.sum(hh)\n",
        "  h[group_id] = hh\n",
        "\n",
        "plt.figure()\n",
        "for group_id in group_idx:\n",
        "  plt.plot(hbins[1:], h[group_id], label=group_id)\n",
        "plt.xlabel('User ID')\n",
        "plt.legend()\n"
      ],
      "metadata": {
        "colab": {
          "base_uri": "https://localhost:8080/",
          "height": 296
        },
        "id": "El_Tb4cK-Qif",
        "outputId": "2bd69344-6808-49ee-ea9f-de9189f5ee3a"
      },
      "execution_count": 7,
      "outputs": [
        {
          "output_type": "execute_result",
          "data": {
            "text/plain": [
              "<matplotlib.legend.Legend at 0x7fc15100ba50>"
            ]
          },
          "metadata": {},
          "execution_count": 7
        },
        {
          "output_type": "display_data",
          "data": {
            "text/plain": [
              "<Figure size 432x288 with 1 Axes>"
            ],
            "image/png": "[encoded data removed]"
          },
          "metadata": {
            "needs_background": "light"
          }
        }
      ]
    },
    {
      "cell_type": "code",
      "source": [
        "\n"
      ],
      "metadata": {
        "id": "tIn-K2WX_DDo"
      },
      "execution_count": null,
      "outputs": []
    }
  ]
}