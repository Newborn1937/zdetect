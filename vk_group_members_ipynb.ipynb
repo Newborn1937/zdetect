{
  "nbformat": 4,
  "nbformat_minor": 0,
  "metadata": {
    "colab": {
      "name": "\"vk_group_members.ipynb\"",
      "provenance": [],
      "collapsed_sections": [],
      "include_colab_link": true
    },
    "kernelspec": {
      "name": "python3",
      "display_name": "Python 3"
    },
    "language_info": {
      "name": "python"
    },
    "gpuClass": "standard"
  },
  "cells": [
    {
      "cell_type": "markdown",
      "metadata": {
        "id": "view-in-github",
        "colab_type": "text"
      },
      "source": [
        "<a href=\"https://colab.research.google.com/github/Newborn1937/zdetect/blob/main/vk_group_members_ipynb.ipynb\" target=\"_parent\"><img src=\"https://colab.research.google.com/assets/colab-badge.svg\" alt=\"Open In Colab\"/></a>"
      ]
    },
    {
      "cell_type": "markdown",
      "source": [
        "### Get group members from vk"
      ],
      "metadata": {
        "id": "CPjHUU4jMIkz"
      }
    },
    {
      "cell_type": "code",
      "source": [
        "# Install vk api\n",
        "!pip install vk==2.0.2\n",
        "\n",
        "import gdown\n",
        "\n",
        "# Load utility for high-level interaction with vk\n",
        "url = 'https://raw.githubusercontent.com/Newborn1937/zdetect/main/vk_utils.py'\n",
        "gdown.download(url)"
      ],
      "metadata": {
        "id": "vuSZjIjUzlW1",
        "outputId": "e00c4790-8261-4b39-f9f3-e28ce648b309",
        "colab": {
          "base_uri": "https://localhost:8080/",
          "height": 246
        }
      },
      "execution_count": 1,
      "outputs": [
        {
          "output_type": "stream",
          "name": "stdout",
          "text": [
            "Looking in indexes: https://pypi.org/simple, https://us-python.pkg.dev/colab-wheels/public/simple/\n",
            "Requirement already satisfied: vk==2.0.2 in /usr/local/lib/python3.7/dist-packages (2.0.2)\n",
            "Requirement already satisfied: requests<3.0,>=2.8 in /usr/local/lib/python3.7/dist-packages (from vk==2.0.2) (2.23.0)\n",
            "Requirement already satisfied: certifi>=2017.4.17 in /usr/local/lib/python3.7/dist-packages (from requests<3.0,>=2.8->vk==2.0.2) (2022.6.15)\n",
            "Requirement already satisfied: urllib3!=1.25.0,!=1.25.1,<1.26,>=1.21.1 in /usr/local/lib/python3.7/dist-packages (from requests<3.0,>=2.8->vk==2.0.2) (1.24.3)\n",
            "Requirement already satisfied: chardet<4,>=3.0.2 in /usr/local/lib/python3.7/dist-packages (from requests<3.0,>=2.8->vk==2.0.2) (3.0.4)\n",
            "Requirement already satisfied: idna<3,>=2.5 in /usr/local/lib/python3.7/dist-packages (from requests<3.0,>=2.8->vk==2.0.2) (2.10)\n"
          ]
        },
        {
          "output_type": "stream",
          "name": "stderr",
          "text": [
            "Downloading...\n",
            "From: https://raw.githubusercontent.com/Newborn1937/zdetect/main/vk_utils.py\n",
            "To: /content/vk_utils.py\n",
            "8.29kB [00:00, 4.31MB/s]                   \n"
          ]
        },
        {
          "output_type": "execute_result",
          "data": {
            "text/plain": [
              "'vk_utils.py'"
            ],
            "application/vnd.google.colaboratory.intrinsic+json": {
              "type": "string"
            }
          },
          "metadata": {},
          "execution_count": 1
        }
      ]
    },
    {
      "cell_type": "code",
      "source": [
        "import vk_utils\n",
        "\n",
        "# Initialize vk api\n",
        "vk = vk_utils.VkAPI()"
      ],
      "metadata": {
        "id": "iGlWGEnO0WTs"
      },
      "execution_count": 2,
      "outputs": []
    },
    {
      "cell_type": "code",
      "source": [
        "from google.colab import drive\n",
        "drive.mount('/content/gdrive')"
      ],
      "metadata": {
        "id": "4a-iEL5l-REe",
        "outputId": "d4100d03-d384-4a79-8268-42ea0004d46d",
        "colab": {
          "base_uri": "https://localhost:8080/"
        }
      },
      "execution_count": 4,
      "outputs": [
        {
          "output_type": "stream",
          "name": "stdout",
          "text": [
            "Mounted at /content/gdrive\n"
          ]
        }
      ]
    },
    {
      "cell_type": "code",
      "source": [
        "from google.colab import files\n",
        "import os\n",
        "import pickle\n",
        "\n",
        "# Put group names or indices here\n",
        "group_idx = {'russia', 'zogolovok'}\n",
        "\n",
        "dirpath_out = '/content/gdrive/MyDrive/vk_group_members'\n",
        "\n",
        "# Get group members from vk\n",
        "members = {}\n",
        "for group_id in group_idx:\n",
        "  print(group_id)\n",
        "  # Get from vk\n",
        "  members[group_id] = vk.load_group_members(\n",
        "      group_id, ntoload='all', offset=0, sort_type='id_desc', fields=None)\n",
        "  # Save the result\n",
        "  fname_out = f'{group_id}_members.pkl'\n",
        "  fpath_out = os.path.join(dirpath_out, fname_out)\n",
        "  with open(fpath_out, 'wb') as fid:\n",
        "    pickle.dump(members, fid)\n",
        "\n",
        "# Download members' data to the local drive\n",
        "#files.download(fname_out)\n"
      ],
      "metadata": {
        "id": "DdZt5piozzQV",
        "outputId": "74100e99-9b33-4edd-ee1a-daf18cd6c4b3",
        "colab": {
          "base_uri": "https://localhost:8080/"
        }
      },
      "execution_count": 3,
      "outputs": [
        {
          "output_type": "stream",
          "name": "stdout",
          "text": [
            "russia\n"
          ]
        },
        {
          "output_type": "stream",
          "name": "stderr",
          "text": [
            "79059it [00:16, 4873.01it/s]                           \n"
          ]
        },
        {
          "output_type": "stream",
          "name": "stdout",
          "text": [
            "zogolovok\n"
          ]
        },
        {
          "output_type": "stream",
          "name": "stderr",
          "text": [
            "79019it [00:15, 4997.79it/s]                           \n"
          ]
        }
      ]
    },
    {
      "cell_type": "code",
      "source": [
        "import matplotlib.pyplot as plt\n",
        "import numpy as np\n",
        "\n",
        "nbins = 100\n",
        "hbins = None\n",
        "h = {}\n",
        "\n",
        "# Calculate histograms of member indices\n",
        "for group_id in group_idx:\n",
        "  member_idx = np.array(members[group_id])\n",
        "  if hbins is None:\n",
        "    hh, hbins = np.histogram(member_idx, nbins)\n",
        "  else:\n",
        "    hh, _ = np.histogram(member_idx, hbins)\n",
        "  hh = hh / np.sum(hh)\n",
        "  h[group_id] = hh\n",
        "\n",
        "# Visualize the result\n",
        "plt.figure()\n",
        "for group_id in group_idx:\n",
        "  plt.plot(hbins[1:], h[group_id], label=group_id)\n",
        "plt.xlabel('User ID')\n",
        "plt.legend()\n"
      ],
      "metadata": {
        "id": "El_Tb4cK-Qif"
      },
      "execution_count": null,
      "outputs": []
    },
    {
      "cell_type": "code",
      "source": [
        "\n"
      ],
      "metadata": {
        "id": "tIn-K2WX_DDo"
      },
      "execution_count": null,
      "outputs": []
    }
  ]
}