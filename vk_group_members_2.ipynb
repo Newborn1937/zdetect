{
  "nbformat": 4,
  "nbformat_minor": 0,
  "metadata": {
    "colab": {
      "name": "vk_group_members_2.ipynb",
      "provenance": [],
      "include_colab_link": true
    },
    "kernelspec": {
      "name": "python3",
      "display_name": "Python 3"
    },
    "language_info": {
      "name": "python"
    },
    "gpuClass": "standard"
  },
  "cells": [
    {
      "cell_type": "markdown",
      "metadata": {
        "id": "view-in-github",
        "colab_type": "text"
      },
      "source": [
        "<a href=\"https://colab.research.google.com/github/Newborn1937/zdetect/blob/main/vk_group_members_2.ipynb\" target=\"_parent\"><img src=\"https://colab.research.google.com/assets/colab-badge.svg\" alt=\"Open In Colab\"/></a>"
      ]
    },
    {
      "cell_type": "markdown",
      "source": [
        "#### Initialization"
      ],
      "metadata": {
        "id": "CPjHUU4jMIkz"
      }
    },
    {
      "cell_type": "code",
      "source": [
        "# Install vk api\n",
        "!pip install vk==2.0.2\n",
        "\n",
        "import gdown\n",
        "\n",
        "# Load utility for high-level interaction with vk\n",
        "url = 'https://raw.githubusercontent.com/Newborn1937/zdetect/main/vk_utils.py'\n",
        "gdown.download(url)\n",
        "\n",
        "# Patch the installed vk/utils.py to import from collections.abc\n",
        "!sed -i 's/from collections import Iterable/from collections.abc import Iterable/' /usr/local/lib/python3.12/dist-packages/vk/utils.py\n",
        "\n",
        "import importlib, sys\n",
        "importlib.invalidate_caches()\n",
        "\n",
        "import vk_utils\n",
        "\n",
        "# Initialize vk api\n",
        "vk = vk_utils.VkAPI()\n",
        "\n",
        "import datetime\n",
        "import os\n",
        "from pathlib import Path\n",
        "import pickle\n",
        "import re\n",
        "\n",
        "from google.colab import drive\n",
        "from google.colab import files\n",
        "import numpy as np\n",
        "import pandas as pd\n",
        "import plotly.express as px\n",
        "import urllib\n",
        "from tqdm import tqdm"
      ],
      "metadata": {
        "id": "vuSZjIjUzlW1",
        "outputId": "653d6304-a9cf-4770-d09d-efc8443a199e",
        "colab": {
          "base_uri": "https://localhost:8080/"
        }
      },
      "execution_count": 37,
      "outputs": [
        {
          "output_type": "stream",
          "name": "stdout",
          "text": [
            "Requirement already satisfied: vk==2.0.2 in /usr/local/lib/python3.12/dist-packages (2.0.2)\n",
            "Requirement already satisfied: requests<3.0,>=2.8 in /usr/local/lib/python3.12/dist-packages (from vk==2.0.2) (2.32.4)\n",
            "Requirement already satisfied: charset_normalizer<4,>=2 in /usr/local/lib/python3.12/dist-packages (from requests<3.0,>=2.8->vk==2.0.2) (3.4.3)\n",
            "Requirement already satisfied: idna<4,>=2.5 in /usr/local/lib/python3.12/dist-packages (from requests<3.0,>=2.8->vk==2.0.2) (3.10)\n",
            "Requirement already satisfied: urllib3<3,>=1.21.1 in /usr/local/lib/python3.12/dist-packages (from requests<3.0,>=2.8->vk==2.0.2) (2.5.0)\n",
            "Requirement already satisfied: certifi>=2017.4.17 in /usr/local/lib/python3.12/dist-packages (from requests<3.0,>=2.8->vk==2.0.2) (2025.8.3)\n"
          ]
        },
        {
          "output_type": "stream",
          "name": "stderr",
          "text": [
            "Downloading...\n",
            "From: https://raw.githubusercontent.com/Newborn1937/zdetect/main/vk_utils.py\n",
            "To: /content/vk_utils.py\n",
            "9.27kB [00:00, 7.13MB/s]                   \n"
          ]
        }
      ]
    },
    {
      "cell_type": "markdown",
      "source": [
        "#### Groups to analyze"
      ],
      "metadata": {
        "id": "cOILPa-H6j2j"
      }
    },
    {
      "cell_type": "code",
      "source": [
        "# Put group names or indices here\n",
        "#group_idx = ['russia', 'zogolovok']\n",
        "group_idx = ['putin_z', 'vladimir_vladimirovichp', 'putin_govorit', 'putintoday',\n",
        "             'putin_vs_veteran', 'moskvaputinu', 'putin_2014', 'putin_lider',\n",
        "             'moy_putin', 'putineveryday', 'zogolovok']\n",
        "\n",
        "dirpath_out = '/content/gdrive/MyDrive/vk_group_members'"
      ],
      "metadata": {
        "id": "-AIrtH21DxHj"
      },
      "execution_count": 4,
      "outputs": []
    },
    {
      "cell_type": "markdown",
      "source": [
        "#### Mount gdrive"
      ],
      "metadata": {
        "id": "VzX143Kh6i12"
      }
    },
    {
      "cell_type": "code",
      "source": [
        "drive.mount('/content/gdrive')"
      ],
      "metadata": {
        "id": "4a-iEL5l-REe",
        "outputId": "59c25537-ac58-4352-b219-a4fbe870cb18",
        "colab": {
          "base_uri": "https://localhost:8080/"
        }
      },
      "execution_count": 6,
      "outputs": [
        {
          "output_type": "stream",
          "name": "stdout",
          "text": [
            "Mounted at /content/gdrive\n"
          ]
        }
      ]
    },
    {
      "cell_type": "markdown",
      "source": [
        "#### Get group members from VK or load them from gdrive"
      ],
      "metadata": {
        "id": "ahffWSYUSx3S"
      }
    },
    {
      "cell_type": "code",
      "source": [
        "# Get group members from vk\n",
        "members = {}\n",
        "for group_id in group_idx:\n",
        "  print(group_id)\n",
        "  # Get from vk\n",
        "  members[group_id] = vk.load_group_members(\n",
        "      group_id, ntoload='all', offset=0, sort_type='id_desc', fields=None)\n",
        "  # Save the result\n",
        "  fname_out = f'{group_id}_members.pkl'\n",
        "  fpath_out = os.path.join(dirpath_out, fname_out)\n",
        "  with open(fpath_out, 'wb') as fid:\n",
        "    pickle.dump(members[group_id], fid)\n",
        "\n",
        "# Download members' data to the local drive\n",
        "#files.download(fname_out)"
      ],
      "metadata": {
        "id": "DdZt5piozzQV"
      },
      "execution_count": null,
      "outputs": []
    },
    {
      "cell_type": "code",
      "source": [
        "# Load group members from Google Drive\n",
        "members = {}\n",
        "for group_id in group_idx:\n",
        "  print(group_id)\n",
        "  fname_out = f'{group_id}_members.pkl'\n",
        "  fpath_out = os.path.join(dirpath_out, fname_out)\n",
        "  with open(fpath_out, 'rb') as fid:\n",
        "    members_ = pickle.load(fid)\n",
        "    members[group_id] = members_[group_id]  # Delete this line after reloading from vk"
      ],
      "metadata": {
        "colab": {
          "base_uri": "https://localhost:8080/"
        },
        "id": "hemORJqcEDj7",
        "outputId": "bf81bf2e-f418-496c-b317-ca6ad5756e33"
      },
      "execution_count": 7,
      "outputs": [
        {
          "output_type": "stream",
          "name": "stdout",
          "text": [
            "putin_z\n",
            "vladimir_vladimirovichp\n",
            "putin_govorit\n",
            "putintoday\n",
            "putin_vs_veteran\n",
            "moskvaputinu\n",
            "putin_2014\n",
            "putin_lider\n",
            "moy_putin\n",
            "putineveryday\n",
            "zogolovok\n"
          ]
        }
      ]
    },
    {
      "cell_type": "markdown",
      "source": [
        "#### Functions for getting registration rate by user ID"
      ],
      "metadata": {
        "id": "z0Ur4-yeTeTX"
      }
    },
    {
      "cell_type": "code",
      "source": [
        "#### This method doesn't work anymore\n",
        "\n",
        "def _get_user_reg_date(user_id):\n",
        "  '''Get user registration date. '''\n",
        "  # Send request to vk server\n",
        "  req = f'https://vk.com/foaf.php?id={user_id}'\n",
        "  resp = urllib.request.urlopen(req)\n",
        "  # Convert response to a string\n",
        "  resp_str = resp.read().decode(encoding='windows-1251')\n",
        "  # Find registration date in the response\n",
        "  templ_str = 'ya:created dc:date=\"([\\d]+-[\\d]+-[\\d]+)T'\n",
        "  templ = re.compile(templ_str)\n",
        "  reg_str = templ.findall(resp_str)\n",
        "  if len(reg_str) != 1:\n",
        "    return None\n",
        "  reg_str = reg_str[0]\n",
        "  # Convert registration date from string to 'date' object\n",
        "  reg_date = datetime.date.fromisoformat(reg_str)\n",
        "  return reg_date\n",
        "\n",
        "def get_user_reg_date_old(user_id):\n",
        "  '''Get user registration date, if unavailable - look among the nearest users . '''\n",
        "  for n in range(5):\n",
        "    for m in [1, -1]:\n",
        "      reg_date = _get_user_reg_date(user_id + n * m)\n",
        "      if reg_date is not None:\n",
        "        return reg_date\n",
        "  return None\n"
      ],
      "metadata": {
        "id": "oeB2MpMfVjgh",
        "colab": {
          "base_uri": "https://localhost:8080/"
        },
        "outputId": "91fb8312-7dd0-400f-da22-64901f0ba2fe"
      },
      "execution_count": 21,
      "outputs": [
        {
          "output_type": "stream",
          "name": "stderr",
          "text": [
            "<>:11: SyntaxWarning: invalid escape sequence '\\d'\n",
            "<>:11: SyntaxWarning: invalid escape sequence '\\d'\n",
            "/tmp/ipython-input-3612016065.py:11: SyntaxWarning: invalid escape sequence '\\d'\n",
            "  templ_str = 'ya:created dc:date=\"([\\d]+-[\\d]+-[\\d]+)T'\n"
          ]
        }
      ]
    },
    {
      "cell_type": "code",
      "source": [
        "import re\n",
        "import subprocess\n",
        "import datetime as dt\n",
        "\n",
        "# Russian month names (genitive) -> month number\n",
        "_RU_MONTH = {\n",
        "    'января':1, 'февраля':2, 'марта':3, 'апреля':4, 'мая':5, 'июня':6,\n",
        "    'июля':7, 'августа':8, 'сентября':9, 'октября':10, 'ноября':11, 'декабря':12\n",
        "}\n",
        "\n",
        "# Parse \"Дата регистрации: 2 июля 2007\" (optionally with \"года\")\n",
        "_DATE_RE = re.compile(r'Дата регистрации:\\s*([0-9]{1,2})\\s+([А-Яа-я]+)\\s+([0-9]{4})(?:\\s*года)?')\n",
        "\n",
        "# Current A record for regvk.com; update if it changes\n",
        "_REGVK_IP = \"81.177.139.247\"\n",
        "\n",
        "def _parse_reg_date_from_html(html: str):\n",
        "    m = _DATE_RE.search(html)\n",
        "    if not m:\n",
        "        return None\n",
        "    d = int(m.group(1))\n",
        "    mon = m.group(2).lower()\n",
        "    y = int(m.group(3))\n",
        "    mm = _RU_MONTH.get(mon)\n",
        "    if not mm:\n",
        "        return None\n",
        "    try:\n",
        "        return dt.date(y, mm, d)\n",
        "    except ValueError:\n",
        "        return None\n",
        "\n",
        "def _get_user_reg_date(user_id: int):\n",
        "    \"\"\"Get exact registration date from regvk.com. Returns datetime.date or None.\"\"\"\n",
        "    cmd = [\n",
        "        \"curl\", \"-s\", \"--compressed\",\n",
        "        \"--resolve\", f\"regvk.com:443:{_REGVK_IP}\",\n",
        "        \"https://regvk.com/\",\n",
        "        \"--data-urlencode\", f\"link={user_id}\",\n",
        "        \"--data-urlencode\", \"button=Определить дату регистрации\",\n",
        "    ]\n",
        "    try:\n",
        "        html = subprocess.check_output(cmd).decode(\"utf-8\", \"ignore\")\n",
        "    except Exception:\n",
        "        return None\n",
        "    return _parse_reg_date_from_html(html)\n",
        "\n",
        "def get_user_reg_date(user_id: int):\n",
        "    \"\"\"Get user registration date; if unavailable, probe nearest IDs (±1..±4).\"\"\"\n",
        "    # Try exact first\n",
        "    d0 = _get_user_reg_date(user_id)\n",
        "    if d0 is not None:\n",
        "        return d0\n",
        "    # Fallback: nearest numeric neighbors (like your old logic)\n",
        "    for n in range(1, 5):\n",
        "        for m in (1, -1):\n",
        "            d = _get_user_reg_date(user_id + n * m)\n",
        "            if d is not None:\n",
        "                return d\n",
        "    return None\n",
        "\n",
        "# Test\n",
        "print('Test: ', get_user_reg_date(895252))"
      ],
      "metadata": {
        "colab": {
          "base_uri": "https://localhost:8080/"
        },
        "id": "B90T8rgvO460",
        "outputId": "b578cbdf-c1c0-4bd4-f21f-14e6d8d5848d"
      },
      "execution_count": 23,
      "outputs": [
        {
          "output_type": "stream",
          "name": "stdout",
          "text": [
            "Test:  2007-07-02\n"
          ]
        }
      ]
    },
    {
      "cell_type": "markdown",
      "source": [
        "#### Main processing"
      ],
      "metadata": {
        "id": "I5U62E7jTok8"
      }
    },
    {
      "cell_type": "code",
      "source": [
        "nbins = 100\n",
        "hbins = None\n",
        "h = {}\n",
        "\n",
        "# Calculate histograms of member indices\n",
        "for group_id in group_idx:\n",
        "  member_idx = np.array(members[group_id])\n",
        "  member_idx = member_idx[member_idx > 6.8e8]\n",
        "  if hbins is None:\n",
        "    hh, hbins = np.histogram(member_idx, nbins)\n",
        "  else:\n",
        "    hh, _ = np.histogram(member_idx, hbins)\n",
        "  hh = hh / np.sum(hh)\n",
        "  h[group_id] = hh"
      ],
      "metadata": {
        "id": "El_Tb4cK-Qif",
        "outputId": "40cbaf54-5ea1-42db-88d3-b19e8c58d937",
        "colab": {
          "base_uri": "https://localhost:8080/"
        }
      },
      "execution_count": 8,
      "outputs": [
        {
          "output_type": "stream",
          "name": "stderr",
          "text": [
            "/tmp/ipython-input-1896662687.py:13: RuntimeWarning: invalid value encountered in divide\n",
            "  hh = hh / np.sum(hh)\n"
          ]
        }
      ]
    },
    {
      "cell_type": "code",
      "source": [
        "# Get registration dates for the user ID bins via an external service\n",
        "hbin_dates = []\n",
        "for hbin in tqdm(hbins):\n",
        "  hbin_dates.append(get_user_reg_date(int(hbin)))\n",
        "\n",
        "# Try to fill None dates\n",
        "for n in range(1, len(hbin_dates) - 1):\n",
        "  if hbin_dates[n] is None:\n",
        "    dprev = hbin_dates[n - 1]\n",
        "    dnext = hbin_dates[n + 1]\n",
        "    if (dprev is not None) and (dnext is not None):\n",
        "      hbin_dates[n] = dprev + (dnext - dprev) / 2\n",
        "\n",
        "# Store the dates to gdrive\n",
        "df = pd.DataFrame({'ID': hbins.astype(int), 'reg_date': hbin_dates})\n",
        "fpath_reg_dates = Path(dirpath_out) / f'hbin_reg_dates_{nbins}.csv'\n",
        "df.to_csv(fpath_reg_dates, index=False)"
      ],
      "metadata": {
        "colab": {
          "base_uri": "https://localhost:8080/"
        },
        "id": "zvSLkj9KWpPt",
        "outputId": "577e075d-6be1-4d2a-a66b-df7107a48f5d"
      },
      "execution_count": 39,
      "outputs": [
        {
          "output_type": "stream",
          "name": "stderr",
          "text": [
            "100%|██████████| 101/101 [02:27<00:00,  1.46s/it]\n"
          ]
        }
      ]
    },
    {
      "cell_type": "code",
      "source": [
        "# Load registration dates for the user ID bins from gdrive\n",
        "fpath_reg_dates = Path(dirpath_out) / f'hbin_reg_dates_{nbins}.csv'\n",
        "df = pd.read_csv(fpath_reg_dates)\n",
        "hbin_dates = df['reg_date'].to_numpy()\n",
        "hbin_dates = np.array([datetime.date.fromisoformat(d) for d in hbin_dates])\n",
        "#hbin_dates\n"
      ],
      "metadata": {
        "id": "CYQ11MCTEUon"
      },
      "execution_count": 40,
      "outputs": []
    },
    {
      "cell_type": "code",
      "source": [
        "def get_hbin_centers(hbin_vec):\n",
        "  '''Convert bin edges to bin centers. '''\n",
        "  N = len(hbin_vec)\n",
        "  hbin_vec_c = np.ndarray((N), dtype=object)\n",
        "  for n in range(0, N - 1):\n",
        "    x1 = hbin_vec[n]\n",
        "    x2 = hbin_vec[n + 1]\n",
        "    if (x1 is None) or (x2 is None):\n",
        "      hbin_vec_c[n] = None\n",
        "    else:\n",
        "      hbin_vec_c[n] = x1 + (x2 - x1) / 2\n",
        "  return hbin_vec_c\n",
        "\n",
        "def make_users_df(dates, users_data, group_idx_used):\n",
        "  '''Convert users' data for various groups into a pandas DataFrame. '''\n",
        "  data_lst = []\n",
        "  col_names = []\n",
        "  data_lst.append(dates)\n",
        "  col_names.append('Date')\n",
        "  for group_id in group_idx_used:\n",
        "    data_lst.append(users_data[group_id])\n",
        "    col_names.append(group_id)\n",
        "  data_lst = list(map(list, zip(*data_lst)))  # transpose\n",
        "  df = pd.DataFrame(data=data_lst, columns=col_names)\n",
        "  return df"
      ],
      "metadata": {
        "id": "0DiBHC50Otbr"
      },
      "execution_count": 41,
      "outputs": []
    },
    {
      "cell_type": "code",
      "source": [
        "# Plotly config\n",
        "px_config = {\n",
        "  'toImageButtonOptions': {\n",
        "    'format': 'png', # one of png, svg, jpeg, webp\n",
        "    'filename': 'custom_image',\n",
        "    'height': 400,\n",
        "    'width': 1000,\n",
        "    'scale':4 # Multiply title/legend/axis/canvas sizes by this factor\n",
        "  }\n",
        "}"
      ],
      "metadata": {
        "id": "QMkFdPvgkM6C"
      },
      "execution_count": 42,
      "outputs": []
    },
    {
      "cell_type": "code",
      "source": [
        "# Get centers of the time bins\n",
        "hbin_dates_vis = get_hbin_centers(hbin_dates)[:-1]\n",
        "#hbin_dates_vis = get_hbin_centers(hbins)[:-1]\n",
        "\n",
        "# Groups to visualize\n",
        "group_idx_vis = ['putin_z', 'vladimir_vladimirovichp', 'putin_govorit', 'putintoday',\n",
        "                 'moskvaputinu', 'putin_lider', 'moy_putin', 'putineveryday', 'zogolovok']\n",
        "#group_idx_vis = ['putin_vs_veteran', 'putin_2014']\n",
        "\n",
        "# Create pandas DataFrame from the members' data\n",
        "df = make_users_df(hbin_dates_vis, h, group_idx_vis)\n",
        "\n",
        "# Subtract baseline\n",
        "baseline = ['2021-11-01', '2022-02-01']\n",
        "need_subtract_baseline = False\n",
        "if need_subtract_baseline:\n",
        "  baseline = [datetime.date.fromisoformat(d) for d in baseline]\n",
        "  mask = (df.Date >= baseline[0]) & (df.Date <= baseline[1])\n",
        "  baseline_data = df[mask].iloc[:, 1:].mean()\n",
        "  df.iloc[:, 1:] -= baseline_data\n",
        "\n",
        "# Time interval to visualize\n",
        "dates_vis = ['2022-01-20', '2022-05-20']\n",
        "dates_vis = [datetime.date.fromisoformat(d) for d in dates_vis]\n",
        "\n",
        "title_str = 'Number of members by registration date  '\n",
        "#title_str = 'Number of members by User ID  '\n",
        "if need_subtract_baseline:\n",
        "  title_str += f'(Baseline: {baseline[0]} - {baseline[1]})'\n",
        "else:\n",
        "  title_str += '(No baseline)'\n",
        "fig = px.line(df, x='Date', y=df.columns[1:], title=title_str)\n",
        "#fig.update_xaxes(range=dates_vis, row=1, col=1)\n",
        "fig.show(config=px_config)\n"
      ],
      "metadata": {
        "colab": {
          "base_uri": "https://localhost:8080/",
          "height": 542
        },
        "id": "ZoGd3Z61e6Wq",
        "outputId": "37c76a97-9385-420a-ab03-efc4f6732c3d"
      },
      "execution_count": 43,
      "outputs": [
        {
          "output_type": "display_data",
          "data": {
            "text/html": [
              "<html>\n",
              "<head><meta charset=\"utf-8\" /></head>\n",
              "<body>\n",
              "    <div>            <script src=\"https://cdnjs.cloudflare.com/ajax/libs/mathjax/2.7.5/MathJax.js?config=TeX-AMS-MML_SVG\"></script><script type=\"text/javascript\">if (window.MathJax && window.MathJax.Hub && window.MathJax.Hub.Config) {window.MathJax.Hub.Config({SVG: {font: \"STIX-Web\"}});}</script>                <script type=\"text/javascript\">window.PlotlyConfig = {MathJaxConfig: 'local'};</script>\n",
              "        <script charset=\"utf-8\" src=\"https://cdn.plot.ly/plotly-2.35.2.min.js\"></script>                <div id=\"080ca2dc-4dcd-43c5-b02e-f243c42fa637\" class=\"plotly-graph-div\" style=\"height:525px; width:100%;\"></div>            <script type=\"text/javascript\">                                    window.PLOTLYENV=window.PLOTLYENV || {};                                    if (document.getElementById(\"080ca2dc-4dcd-43c5-b02e-f243c42fa637\")) {                    Plotly.newPlot(                        \"080ca2dc-4dcd-43c5-b02e-f243c42fa637\",                        [{\"hovertemplate\":\"variable=putin_z\\u003cbr\\u003eDate=%{x}\\u003cbr\\u003evalue=%{y}\\u003cextra\\u003e\\u003c\\u002fextra\\u003e\",\"legendgroup\":\"putin_z\",\"line\":{\"color\":\"#636efa\",\"dash\":\"solid\"},\"marker\":{\"symbol\":\"circle\"},\"mode\":\"lines\",\"name\":\"putin_z\",\"orientation\":\"v\",\"showlegend\":true,\"x\":[\"2021-10-12\",\"2021-10-15\",\"2021-10-18\",\"2021-10-21\",\"2021-10-24\",\"2021-10-27\",\"2021-10-30\",\"2021-11-02\",\"2021-11-04\",\"2021-11-06\",\"2021-11-08\",\"2021-11-11\",\"2021-11-13\",\"2021-11-16\",\"2021-11-20\",\"2021-11-23\",\"2021-11-26\",\"2021-11-29\",\"2021-12-02\",\"2021-12-05\",\"2021-12-09\",\"2021-12-12\",\"2021-12-15\",\"2021-12-19\",\"2021-12-22\",\"2021-12-26\",\"2021-12-30\",\"2022-01-02\",\"2022-01-06\",\"2022-01-09\",\"2022-01-13\",\"2022-01-16\",\"2022-01-19\",\"2022-01-22\",\"2022-01-25\",\"2022-01-28\",\"2022-01-31\",\"2022-02-02\",\"2022-02-05\",\"2022-02-08\",\"2022-02-11\",\"2022-02-14\",\"2022-02-17\",\"2022-02-20\",\"2022-02-23\",\"2022-02-26\",\"2022-03-01\",\"2022-03-04\",\"2022-03-07\",\"2022-03-10\",\"2022-03-11\",\"2022-03-12\",\"2022-03-14\",\"2022-03-16\",\"2022-03-18\",\"2022-03-21\",\"2022-03-23\",\"2022-03-25\",\"2022-03-28\",\"2022-03-30\",\"2022-04-01\",\"2022-04-04\",\"2022-04-06\",\"2022-04-09\",\"2022-04-12\",\"2022-04-14\",\"2022-04-17\",\"2022-04-20\",\"2022-04-23\",\"2022-04-26\",\"2022-04-29\",\"2022-05-02\",\"2022-05-04\",\"2022-05-05\",\"2022-05-05\",\"2022-05-05\",\"2022-05-05\",\"2022-05-05\",\"2022-05-05\",\"2022-05-06\",\"2022-05-09\",\"2022-05-13\",\"2022-05-16\",\"2022-05-20\",\"2022-05-23\",\"2022-05-27\",\"2022-05-31\",\"2022-06-04\",\"2022-06-08\",\"2022-06-12\",\"2022-06-16\",\"2022-06-19\",\"2022-06-22\",\"2022-06-26\",\"2022-06-29\",\"2022-07-03\",\"2022-07-07\",\"2022-07-11\",\"2022-07-14\",\"2022-07-18\"],\"xaxis\":\"x\",\"y\":[0.007021471456192124,0.007123231912078966,0.0062073878090973846,0.007072351684135545,0.006054747125267121,0.0055459448458329095,0.005647705301719752,0.006054747125267121,0.004172178691360537,0.004935382110511855,0.005342423934059225,0.004680980970794749,0.006665309860588176,0.006767070316475018,0.006461788948814491,0.007021471456192124,0.005800345985550015,0.006665309860588176,0.006156507581153964,0.006512669176757912,0.006461788948814491,0.006919711000305281,0.007428513279739493,0.007835555103286863,0.007021471456192124,0.006512669176757912,0.007326752823852651,0.010481326956344765,0.008395237610664496,0.007021471456192124,0.007479393507682915,0.007072351684135545,0.007123231912078966,0.007835555103286863,0.007072351684135545,0.006919711000305281,0.0067161900885315965,0.0068688307723618605,0.008496998066551338,0.007377633051796072,0.007988195787117127,0.008496998066551338,0.008598758522438181,0.009718123537193446,0.012770937213798718,0.023710186221634275,0.023354024626030326,0.028849089243919813,0.02574539533937112,0.03663376411926325,0.08578406431260813,0.06217563854686069,0.047827414266815915,0.030579016993996132,0.028136766052711915,0.023811946677521116,0.01979240866999084,0.01892744479495268,0.013890302228553983,0.011244530375496083,0.013534140632950036,0.01154981174315661,0.01114276991960924,0.011448051287269768,0.010176045588684237,0.008853159662155287,0.0075302737356263355,0.0068688307723618605,0.005952986669380279,0.007174112140022388,0.007632034191513178,0.005342423934059225,0.0015772870662460567,0.00010176045588684237,0.00015264068383026355,0.00015264068383026355,0.000050880227943421185,0.0,0.00010176045588684237,0.005902106441436857,0.009514602625419762,0.006919711000305281,0.0062073878090973846,0.0076829144194565996,0.004986262338455276,0.004172178691360537,0.005495064617889488,0.004630100742851328,0.00473186119873817,0.0042230589193039585,0.003968657779586853,0.0036633764119263254,0.003307214816322377,0.002798412536888165,0.002544011397171059,0.00300193344866185,0.002544011397171059,0.0024422509412842168,0.0021369695736236896,0.0014755266103592143],\"yaxis\":\"y\",\"type\":\"scatter\"},{\"hovertemplate\":\"variable=vladimir_vladimirovichp\\u003cbr\\u003eDate=%{x}\\u003cbr\\u003evalue=%{y}\\u003cextra\\u003e\\u003c\\u002fextra\\u003e\",\"legendgroup\":\"vladimir_vladimirovichp\",\"line\":{\"color\":\"#EF553B\",\"dash\":\"solid\"},\"marker\":{\"symbol\":\"circle\"},\"mode\":\"lines\",\"name\":\"vladimir_vladimirovichp\",\"orientation\":\"v\",\"showlegend\":true,\"x\":[\"2021-10-12\",\"2021-10-15\",\"2021-10-18\",\"2021-10-21\",\"2021-10-24\",\"2021-10-27\",\"2021-10-30\",\"2021-11-02\",\"2021-11-04\",\"2021-11-06\",\"2021-11-08\",\"2021-11-11\",\"2021-11-13\",\"2021-11-16\",\"2021-11-20\",\"2021-11-23\",\"2021-11-26\",\"2021-11-29\",\"2021-12-02\",\"2021-12-05\",\"2021-12-09\",\"2021-12-12\",\"2021-12-15\",\"2021-12-19\",\"2021-12-22\",\"2021-12-26\",\"2021-12-30\",\"2022-01-02\",\"2022-01-06\",\"2022-01-09\",\"2022-01-13\",\"2022-01-16\",\"2022-01-19\",\"2022-01-22\",\"2022-01-25\",\"2022-01-28\",\"2022-01-31\",\"2022-02-02\",\"2022-02-05\",\"2022-02-08\",\"2022-02-11\",\"2022-02-14\",\"2022-02-17\",\"2022-02-20\",\"2022-02-23\",\"2022-02-26\",\"2022-03-01\",\"2022-03-04\",\"2022-03-07\",\"2022-03-10\",\"2022-03-11\",\"2022-03-12\",\"2022-03-14\",\"2022-03-16\",\"2022-03-18\",\"2022-03-21\",\"2022-03-23\",\"2022-03-25\",\"2022-03-28\",\"2022-03-30\",\"2022-04-01\",\"2022-04-04\",\"2022-04-06\",\"2022-04-09\",\"2022-04-12\",\"2022-04-14\",\"2022-04-17\",\"2022-04-20\",\"2022-04-23\",\"2022-04-26\",\"2022-04-29\",\"2022-05-02\",\"2022-05-04\",\"2022-05-05\",\"2022-05-05\",\"2022-05-05\",\"2022-05-05\",\"2022-05-05\",\"2022-05-05\",\"2022-05-06\",\"2022-05-09\",\"2022-05-13\",\"2022-05-16\",\"2022-05-20\",\"2022-05-23\",\"2022-05-27\",\"2022-05-31\",\"2022-06-04\",\"2022-06-08\",\"2022-06-12\",\"2022-06-16\",\"2022-06-19\",\"2022-06-22\",\"2022-06-26\",\"2022-06-29\",\"2022-07-03\",\"2022-07-07\",\"2022-07-11\",\"2022-07-14\",\"2022-07-18\"],\"xaxis\":\"x\",\"y\":[0.005741437339140764,0.004751534349633736,0.005345476143337953,0.006137398534943575,0.004157592555929519,0.007721243318154821,0.00593941793704217,0.006335379132844981,0.0035636507622253018,0.004355573153830924,0.007325282122352009,0.0039596119580281135,0.005741437339140764,0.0037616313601267076,0.004949514947535142,0.005147495545436547,0.0039596119580281135,0.006731340328647793,0.0071273015244506036,0.005345476143337953,0.007523262720253415,0.006335379132844981,0.004949514947535142,0.00910710750346466,0.006731340328647793,0.008117204513957633,0.006731340328647793,0.012076816471985746,0.0055434567412393585,0.006335379132844981,0.006731340328647793,0.007523262720253415,0.00593941793704217,0.007325282122352009,0.0071273015244506036,0.005345476143337953,0.008513165709760443,0.004157592555929519,0.008315185111859039,0.005741437339140764,0.00593941793704217,0.006929320926549199,0.008513165709760443,0.009701049297168878,0.011086913482478717,0.03187487626212631,0.034844585230647394,0.045337556919421894,0.03009305088101366,0.048307265887942985,0.09344684220946348,0.06335379132844982,0.054642645020787965,0.031280934468422096,0.02831122549990101,0.017026331419520885,0.01504652544050683,0.01682835082161948,0.011482874678281529,0.010294991090873094,0.011680855276182935,0.008117204513957633,0.009503068699267472,0.008117204513957633,0.007523262720253415,0.007919223916056227,0.008909126905563254,0.006929320926549199,0.00455355375173233,0.006929320926549199,0.005345476143337953,0.0031676895664224905,0.0007919223916056226,0.0,0.0,0.00019798059790140566,0.00019798059790140566,0.0,0.0,0.00455355375173233,0.006335379132844981,0.00455355375173233,0.00455355375173233,0.0055434567412393585,0.0037616313601267076,0.00593941793704217,0.0055434567412393585,0.0033656701643238964,0.0037616313601267076,0.004949514947535142,0.004355573153830924,0.0035636507622253018,0.0025737477727182734,0.0031676895664224905,0.0037616313601267076,0.004949514947535142,0.005147495545436547,0.002375767174816868,0.002177786576915462,0.0025737477727182734],\"yaxis\":\"y\",\"type\":\"scatter\"},{\"hovertemplate\":\"variable=putin_govorit\\u003cbr\\u003eDate=%{x}\\u003cbr\\u003evalue=%{y}\\u003cextra\\u003e\\u003c\\u002fextra\\u003e\",\"legendgroup\":\"putin_govorit\",\"line\":{\"color\":\"#00cc96\",\"dash\":\"solid\"},\"marker\":{\"symbol\":\"circle\"},\"mode\":\"lines\",\"name\":\"putin_govorit\",\"orientation\":\"v\",\"showlegend\":true,\"x\":[\"2021-10-12\",\"2021-10-15\",\"2021-10-18\",\"2021-10-21\",\"2021-10-24\",\"2021-10-27\",\"2021-10-30\",\"2021-11-02\",\"2021-11-04\",\"2021-11-06\",\"2021-11-08\",\"2021-11-11\",\"2021-11-13\",\"2021-11-16\",\"2021-11-20\",\"2021-11-23\",\"2021-11-26\",\"2021-11-29\",\"2021-12-02\",\"2021-12-05\",\"2021-12-09\",\"2021-12-12\",\"2021-12-15\",\"2021-12-19\",\"2021-12-22\",\"2021-12-26\",\"2021-12-30\",\"2022-01-02\",\"2022-01-06\",\"2022-01-09\",\"2022-01-13\",\"2022-01-16\",\"2022-01-19\",\"2022-01-22\",\"2022-01-25\",\"2022-01-28\",\"2022-01-31\",\"2022-02-02\",\"2022-02-05\",\"2022-02-08\",\"2022-02-11\",\"2022-02-14\",\"2022-02-17\",\"2022-02-20\",\"2022-02-23\",\"2022-02-26\",\"2022-03-01\",\"2022-03-04\",\"2022-03-07\",\"2022-03-10\",\"2022-03-11\",\"2022-03-12\",\"2022-03-14\",\"2022-03-16\",\"2022-03-18\",\"2022-03-21\",\"2022-03-23\",\"2022-03-25\",\"2022-03-28\",\"2022-03-30\",\"2022-04-01\",\"2022-04-04\",\"2022-04-06\",\"2022-04-09\",\"2022-04-12\",\"2022-04-14\",\"2022-04-17\",\"2022-04-20\",\"2022-04-23\",\"2022-04-26\",\"2022-04-29\",\"2022-05-02\",\"2022-05-04\",\"2022-05-05\",\"2022-05-05\",\"2022-05-05\",\"2022-05-05\",\"2022-05-05\",\"2022-05-05\",\"2022-05-06\",\"2022-05-09\",\"2022-05-13\",\"2022-05-16\",\"2022-05-20\",\"2022-05-23\",\"2022-05-27\",\"2022-05-31\",\"2022-06-04\",\"2022-06-08\",\"2022-06-12\",\"2022-06-16\",\"2022-06-19\",\"2022-06-22\",\"2022-06-26\",\"2022-06-29\",\"2022-07-03\",\"2022-07-07\",\"2022-07-11\",\"2022-07-14\",\"2022-07-18\"],\"xaxis\":\"x\",\"y\":[0.0061823802163833074,0.0061823802163833074,0.007286376683594612,0.008611172444248178,0.0052991830426142635,0.007286376683594612,0.005740781629498786,0.00662397880326783,0.005078383749172003,0.004195186575402959,0.0030911901081916537,0.0061823802163833074,0.00927357032457496,0.007507175977036874,0.007507175977036874,0.00662397880326783,0.006403179509825568,0.008611172444248178,0.007948774563921396,0.007286376683594612,0.006403179509825568,0.0077279752704791345,0.0061823802163833074,0.0061823802163833074,0.007065577390152351,0.00883197173769044,0.009494369618017221,0.01346875689997792,0.009494369618017221,0.0090527710311327,0.007065577390152351,0.006844778096710091,0.0077279752704791345,0.012806359019651136,0.008611172444248178,0.009715168911459484,0.008169573857363657,0.008611172444248178,0.015014351954073748,0.00662397880326783,0.008611172444248178,0.00662397880326783,0.0077279752704791345,0.012364760432766615,0.014793552660631487,0.01854714064914992,0.02649591521307132,0.028924707440936188,0.028483108854051666,0.032899094722896885,0.07220136895561934,0.056745418414661075,0.04371826010156767,0.02936630602782071,0.028703908147493927,0.022521527931110622,0.016339147714727314,0.017443144181938618,0.012806359019651136,0.010377566791786266,0.013689556193420181,0.012585559726208876,0.011702362552439833,0.011923161845882093,0.010156767498344006,0.010598366085228527,0.010377566791786266,0.00662397880326783,0.007065577390152351,0.007507175977036874,0.0061823802163833074,0.005519982336056524,0.0006623978803267829,0.00022079929344226098,0.0,0.0,0.0,0.0,0.0,0.004195186575402959,0.006403179509825568,0.00662397880326783,0.002870390814749393,0.005078383749172003,0.005078383749172003,0.00441598586884522,0.003974387281960698,0.0052991830426142635,0.00441598586884522,0.004195186575402959,0.002870390814749393,0.003311989401633915,0.0017663943475380878,0.0035327886950761757,0.002428792227864871,0.0030911901081916537,0.00220799293442261,0.006403179509825568,0.0017663943475380878,0.0015455950540958269],\"yaxis\":\"y\",\"type\":\"scatter\"},{\"hovertemplate\":\"variable=putintoday\\u003cbr\\u003eDate=%{x}\\u003cbr\\u003evalue=%{y}\\u003cextra\\u003e\\u003c\\u002fextra\\u003e\",\"legendgroup\":\"putintoday\",\"line\":{\"color\":\"#ab63fa\",\"dash\":\"solid\"},\"marker\":{\"symbol\":\"circle\"},\"mode\":\"lines\",\"name\":\"putintoday\",\"orientation\":\"v\",\"showlegend\":true,\"x\":[\"2021-10-12\",\"2021-10-15\",\"2021-10-18\",\"2021-10-21\",\"2021-10-24\",\"2021-10-27\",\"2021-10-30\",\"2021-11-02\",\"2021-11-04\",\"2021-11-06\",\"2021-11-08\",\"2021-11-11\",\"2021-11-13\",\"2021-11-16\",\"2021-11-20\",\"2021-11-23\",\"2021-11-26\",\"2021-11-29\",\"2021-12-02\",\"2021-12-05\",\"2021-12-09\",\"2021-12-12\",\"2021-12-15\",\"2021-12-19\",\"2021-12-22\",\"2021-12-26\",\"2021-12-30\",\"2022-01-02\",\"2022-01-06\",\"2022-01-09\",\"2022-01-13\",\"2022-01-16\",\"2022-01-19\",\"2022-01-22\",\"2022-01-25\",\"2022-01-28\",\"2022-01-31\",\"2022-02-02\",\"2022-02-05\",\"2022-02-08\",\"2022-02-11\",\"2022-02-14\",\"2022-02-17\",\"2022-02-20\",\"2022-02-23\",\"2022-02-26\",\"2022-03-01\",\"2022-03-04\",\"2022-03-07\",\"2022-03-10\",\"2022-03-11\",\"2022-03-12\",\"2022-03-14\",\"2022-03-16\",\"2022-03-18\",\"2022-03-21\",\"2022-03-23\",\"2022-03-25\",\"2022-03-28\",\"2022-03-30\",\"2022-04-01\",\"2022-04-04\",\"2022-04-06\",\"2022-04-09\",\"2022-04-12\",\"2022-04-14\",\"2022-04-17\",\"2022-04-20\",\"2022-04-23\",\"2022-04-26\",\"2022-04-29\",\"2022-05-02\",\"2022-05-04\",\"2022-05-05\",\"2022-05-05\",\"2022-05-05\",\"2022-05-05\",\"2022-05-05\",\"2022-05-05\",\"2022-05-06\",\"2022-05-09\",\"2022-05-13\",\"2022-05-16\",\"2022-05-20\",\"2022-05-23\",\"2022-05-27\",\"2022-05-31\",\"2022-06-04\",\"2022-06-08\",\"2022-06-12\",\"2022-06-16\",\"2022-06-19\",\"2022-06-22\",\"2022-06-26\",\"2022-06-29\",\"2022-07-03\",\"2022-07-07\",\"2022-07-11\",\"2022-07-14\",\"2022-07-18\"],\"xaxis\":\"x\",\"y\":[0.005345394736842105,0.005962171052631579,0.006373355263157895,0.004317434210526316,0.005139802631578948,0.006373355263157895,0.007195723684210526,0.0047286184210526315,0.005756578947368421,0.006578947368421052,0.0047286184210526315,0.0047286184210526315,0.006373355263157895,0.008018092105263159,0.004934210526315789,0.007401315789473684,0.005345394736842105,0.007606907894736842,0.005550986842105263,0.006373355263157895,0.005756578947368421,0.005345394736842105,0.005962171052631579,0.007195723684210526,0.005345394736842105,0.008018092105263159,0.006167763157894737,0.006373355263157895,0.0078125,0.006578947368421052,0.004934210526315789,0.004934210526315789,0.007195723684210526,0.006784539473684211,0.006167763157894737,0.006784539473684211,0.007606907894736842,0.004934210526315789,0.005756578947368421,0.008018092105263159,0.006578947368421052,0.007401315789473684,0.009251644736842105,0.008634868421052632,0.01171875,0.02816611842105263,0.03310032894736842,0.0390625,0.046052631578947366,0.04358552631578947,0.09724506578947369,0.07092927631578948,0.04461348684210526,0.03844572368421053,0.029810855263157895,0.023643092105263157,0.01850328947368421,0.017064144736842105,0.01171875,0.005756578947368421,0.009251644736842105,0.011307565789473685,0.011101973684210526,0.010279605263157895,0.009251644736842105,0.006784539473684211,0.008634868421052632,0.007401315789473684,0.006167763157894737,0.005139802631578948,0.006784539473684211,0.0028782894736842104,0.0008223684210526315,0.0,0.00020559210526315788,0.00020559210526315788,0.0,0.0,0.0,0.0030838815789473685,0.005550986842105263,0.005139802631578948,0.00390625,0.003289473684210526,0.004317434210526316,0.00390625,0.0030838815789473685,0.0026726973684210527,0.003289473684210526,0.003289473684210526,0.0028782894736842104,0.003289473684210526,0.0028782894736842104,0.0028782894736842104,0.001644736842105263,0.002261513157894737,0.001850328947368421,0.003289473684210526,0.001644736842105263,0.001850328947368421],\"yaxis\":\"y\",\"type\":\"scatter\"},{\"hovertemplate\":\"variable=moskvaputinu\\u003cbr\\u003eDate=%{x}\\u003cbr\\u003evalue=%{y}\\u003cextra\\u003e\\u003c\\u002fextra\\u003e\",\"legendgroup\":\"moskvaputinu\",\"line\":{\"color\":\"#FFA15A\",\"dash\":\"solid\"},\"marker\":{\"symbol\":\"circle\"},\"mode\":\"lines\",\"name\":\"moskvaputinu\",\"orientation\":\"v\",\"showlegend\":true,\"x\":[\"2021-10-12\",\"2021-10-15\",\"2021-10-18\",\"2021-10-21\",\"2021-10-24\",\"2021-10-27\",\"2021-10-30\",\"2021-11-02\",\"2021-11-04\",\"2021-11-06\",\"2021-11-08\",\"2021-11-11\",\"2021-11-13\",\"2021-11-16\",\"2021-11-20\",\"2021-11-23\",\"2021-11-26\",\"2021-11-29\",\"2021-12-02\",\"2021-12-05\",\"2021-12-09\",\"2021-12-12\",\"2021-12-15\",\"2021-12-19\",\"2021-12-22\",\"2021-12-26\",\"2021-12-30\",\"2022-01-02\",\"2022-01-06\",\"2022-01-09\",\"2022-01-13\",\"2022-01-16\",\"2022-01-19\",\"2022-01-22\",\"2022-01-25\",\"2022-01-28\",\"2022-01-31\",\"2022-02-02\",\"2022-02-05\",\"2022-02-08\",\"2022-02-11\",\"2022-02-14\",\"2022-02-17\",\"2022-02-20\",\"2022-02-23\",\"2022-02-26\",\"2022-03-01\",\"2022-03-04\",\"2022-03-07\",\"2022-03-10\",\"2022-03-11\",\"2022-03-12\",\"2022-03-14\",\"2022-03-16\",\"2022-03-18\",\"2022-03-21\",\"2022-03-23\",\"2022-03-25\",\"2022-03-28\",\"2022-03-30\",\"2022-04-01\",\"2022-04-04\",\"2022-04-06\",\"2022-04-09\",\"2022-04-12\",\"2022-04-14\",\"2022-04-17\",\"2022-04-20\",\"2022-04-23\",\"2022-04-26\",\"2022-04-29\",\"2022-05-02\",\"2022-05-04\",\"2022-05-05\",\"2022-05-05\",\"2022-05-05\",\"2022-05-05\",\"2022-05-05\",\"2022-05-05\",\"2022-05-06\",\"2022-05-09\",\"2022-05-13\",\"2022-05-16\",\"2022-05-20\",\"2022-05-23\",\"2022-05-27\",\"2022-05-31\",\"2022-06-04\",\"2022-06-08\",\"2022-06-12\",\"2022-06-16\",\"2022-06-19\",\"2022-06-22\",\"2022-06-26\",\"2022-06-29\",\"2022-07-03\",\"2022-07-07\",\"2022-07-11\",\"2022-07-14\",\"2022-07-18\"],\"xaxis\":\"x\",\"y\":[0.00631931906112974,0.006835181841630127,0.0070931132318803195,0.009414495744132062,0.008124838792881093,0.008124838792881093,0.0058034562806293525,0.005545524890379159,0.00631931906112974,0.005545524890379159,0.007737941707505804,0.004642765024503482,0.0058034562806293525,0.006577250451379933,0.008898632963631675,0.006061387670879546,0.007608976012380707,0.007995873097755997,0.008769667268506576,0.007608976012380707,0.008511735878256384,0.009285530049006964,0.007608976012380707,0.009414495744132062,0.00864070157338148,0.010188289914882642,0.010317255610007738,0.00980139282950735,0.008511735878256384,0.006835181841630127,0.008769667268506576,0.007737941707505804,0.007351044622130513,0.008769667268506576,0.007737941707505804,0.0078669074026309,0.006964147536755223,0.007351044622130513,0.008124838792881093,0.00631931906112974,0.010059324219757545,0.009027598658756771,0.009414495744132062,0.0118648439515089,0.012122775341759092,0.019473819963889607,0.020505545524890378,0.02244003095176683,0.020763476915140574,0.024632447768893475,0.04965179262316224,0.03765798297652825,0.036110394635027084,0.02708279597627031,0.024245550683518184,0.022311065256641734,0.01766830023213825,0.02205313386639154,0.017926231622388444,0.016249677585762186,0.023084859427392315,0.017926231622388444,0.0158627805003869,0.019086922878514316,0.01379932937838535,0.014831054939386122,0.013412432293010059,0.012122775341759092,0.008769667268506576,0.010317255610007738,0.008898632963631675,0.0054165591952540625,0.0018055197317513542,0.00038689708537529015,0.00025793139025019347,0.0,0.0,0.0,0.0,0.005158627805003869,0.006061387670879546,0.00593242197575445,0.004384833634253288,0.0058034562806293525,0.0058034562806293525,0.0058034562806293525,0.004384833634253288,0.006577250451379933,0.0045137993293783854,0.005029662109878773,0.003868970853752902,0.005029662109878773,0.0041269022440030955,0.0045137993293783854,0.0041269022440030955,0.002837245292752128,0.003868970853752902,0.002966210987877225,0.003095176683002321,0.001934485426876451],\"yaxis\":\"y\",\"type\":\"scatter\"},{\"hovertemplate\":\"variable=putin_lider\\u003cbr\\u003eDate=%{x}\\u003cbr\\u003evalue=%{y}\\u003cextra\\u003e\\u003c\\u002fextra\\u003e\",\"legendgroup\":\"putin_lider\",\"line\":{\"color\":\"#19d3f3\",\"dash\":\"solid\"},\"marker\":{\"symbol\":\"circle\"},\"mode\":\"lines\",\"name\":\"putin_lider\",\"orientation\":\"v\",\"showlegend\":true,\"x\":[\"2021-10-12\",\"2021-10-15\",\"2021-10-18\",\"2021-10-21\",\"2021-10-24\",\"2021-10-27\",\"2021-10-30\",\"2021-11-02\",\"2021-11-04\",\"2021-11-06\",\"2021-11-08\",\"2021-11-11\",\"2021-11-13\",\"2021-11-16\",\"2021-11-20\",\"2021-11-23\",\"2021-11-26\",\"2021-11-29\",\"2021-12-02\",\"2021-12-05\",\"2021-12-09\",\"2021-12-12\",\"2021-12-15\",\"2021-12-19\",\"2021-12-22\",\"2021-12-26\",\"2021-12-30\",\"2022-01-02\",\"2022-01-06\",\"2022-01-09\",\"2022-01-13\",\"2022-01-16\",\"2022-01-19\",\"2022-01-22\",\"2022-01-25\",\"2022-01-28\",\"2022-01-31\",\"2022-02-02\",\"2022-02-05\",\"2022-02-08\",\"2022-02-11\",\"2022-02-14\",\"2022-02-17\",\"2022-02-20\",\"2022-02-23\",\"2022-02-26\",\"2022-03-01\",\"2022-03-04\",\"2022-03-07\",\"2022-03-10\",\"2022-03-11\",\"2022-03-12\",\"2022-03-14\",\"2022-03-16\",\"2022-03-18\",\"2022-03-21\",\"2022-03-23\",\"2022-03-25\",\"2022-03-28\",\"2022-03-30\",\"2022-04-01\",\"2022-04-04\",\"2022-04-06\",\"2022-04-09\",\"2022-04-12\",\"2022-04-14\",\"2022-04-17\",\"2022-04-20\",\"2022-04-23\",\"2022-04-26\",\"2022-04-29\",\"2022-05-02\",\"2022-05-04\",\"2022-05-05\",\"2022-05-05\",\"2022-05-05\",\"2022-05-05\",\"2022-05-05\",\"2022-05-05\",\"2022-05-06\",\"2022-05-09\",\"2022-05-13\",\"2022-05-16\",\"2022-05-20\",\"2022-05-23\",\"2022-05-27\",\"2022-05-31\",\"2022-06-04\",\"2022-06-08\",\"2022-06-12\",\"2022-06-16\",\"2022-06-19\",\"2022-06-22\",\"2022-06-26\",\"2022-06-29\",\"2022-07-03\",\"2022-07-07\",\"2022-07-11\",\"2022-07-14\",\"2022-07-18\"],\"xaxis\":\"x\",\"y\":[0.006586972432300561,0.006343010490363503,0.008538667967797023,0.007318858258111734,0.006830934374237619,0.009514515735545254,0.0070748963161746765,0.008294706025859966,0.00561112466455233,0.0048792388387411565,0.009026591851671139,0.0031715052451817514,0.008538667967797023,0.006830934374237619,0.006830934374237619,0.007562820200048792,0.005367162722615272,0.007318858258111734,0.0070748963161746765,0.006586972432300561,0.005367162722615272,0.00780678214198585,0.008782629909734082,0.009270553793608197,0.008538667967797023,0.008782629909734082,0.009026591851671139,0.00780678214198585,0.009026591851671139,0.006099048548426446,0.007562820200048792,0.006830934374237619,0.008782629909734082,0.009026591851671139,0.005855086606489388,0.008294706025859966,0.007562820200048792,0.005367162722615272,0.008782629909734082,0.008782629909734082,0.008050744083922909,0.009514515735545254,0.0070748963161746765,0.011710173212978776,0.012198097096852892,0.026347889729202243,0.02805562332276165,0.03561844352281044,0.029763356916321055,0.04025372041961454,0.084410831910222,0.05977067577457917,0.04659673090997804,0.026347889729202243,0.027079775555013418,0.022688460600146378,0.01902903147109051,0.0156135642839717,0.014149792632349353,0.010734325445230545,0.010978287387167602,0.012198097096852892,0.010490363503293486,0.008538667967797023,0.006586972432300561,0.006586972432300561,0.008294706025859966,0.005123200780678214,0.006099048548426446,0.007318858258111734,0.00561112466455233,0.004391314954867041,0.00048792388387411563,0.0,0.0,0.0,0.0,0.0,0.0,0.004391314954867041,0.0048792388387411565,0.005123200780678214,0.003903391070992925,0.006099048548426446,0.003659429129055867,0.004635276896804099,0.003903391070992925,0.003903391070992925,0.0031715052451817514,0.005367162722615272,0.004391314954867041,0.0024396194193705783,0.003903391070992925,0.002927543303244694,0.0017077335935594047,0.003659429129055867,0.0021956574774335204,0.0024396194193705783,0.0021956574774335204,0.0007318858258111735],\"yaxis\":\"y\",\"type\":\"scatter\"},{\"hovertemplate\":\"variable=moy_putin\\u003cbr\\u003eDate=%{x}\\u003cbr\\u003evalue=%{y}\\u003cextra\\u003e\\u003c\\u002fextra\\u003e\",\"legendgroup\":\"moy_putin\",\"line\":{\"color\":\"#FF6692\",\"dash\":\"solid\"},\"marker\":{\"symbol\":\"circle\"},\"mode\":\"lines\",\"name\":\"moy_putin\",\"orientation\":\"v\",\"showlegend\":true,\"x\":[\"2021-10-12\",\"2021-10-15\",\"2021-10-18\",\"2021-10-21\",\"2021-10-24\",\"2021-10-27\",\"2021-10-30\",\"2021-11-02\",\"2021-11-04\",\"2021-11-06\",\"2021-11-08\",\"2021-11-11\",\"2021-11-13\",\"2021-11-16\",\"2021-11-20\",\"2021-11-23\",\"2021-11-26\",\"2021-11-29\",\"2021-12-02\",\"2021-12-05\",\"2021-12-09\",\"2021-12-12\",\"2021-12-15\",\"2021-12-19\",\"2021-12-22\",\"2021-12-26\",\"2021-12-30\",\"2022-01-02\",\"2022-01-06\",\"2022-01-09\",\"2022-01-13\",\"2022-01-16\",\"2022-01-19\",\"2022-01-22\",\"2022-01-25\",\"2022-01-28\",\"2022-01-31\",\"2022-02-02\",\"2022-02-05\",\"2022-02-08\",\"2022-02-11\",\"2022-02-14\",\"2022-02-17\",\"2022-02-20\",\"2022-02-23\",\"2022-02-26\",\"2022-03-01\",\"2022-03-04\",\"2022-03-07\",\"2022-03-10\",\"2022-03-11\",\"2022-03-12\",\"2022-03-14\",\"2022-03-16\",\"2022-03-18\",\"2022-03-21\",\"2022-03-23\",\"2022-03-25\",\"2022-03-28\",\"2022-03-30\",\"2022-04-01\",\"2022-04-04\",\"2022-04-06\",\"2022-04-09\",\"2022-04-12\",\"2022-04-14\",\"2022-04-17\",\"2022-04-20\",\"2022-04-23\",\"2022-04-26\",\"2022-04-29\",\"2022-05-02\",\"2022-05-04\",\"2022-05-05\",\"2022-05-05\",\"2022-05-05\",\"2022-05-05\",\"2022-05-05\",\"2022-05-05\",\"2022-05-06\",\"2022-05-09\",\"2022-05-13\",\"2022-05-16\",\"2022-05-20\",\"2022-05-23\",\"2022-05-27\",\"2022-05-31\",\"2022-06-04\",\"2022-06-08\",\"2022-06-12\",\"2022-06-16\",\"2022-06-19\",\"2022-06-22\",\"2022-06-26\",\"2022-06-29\",\"2022-07-03\",\"2022-07-07\",\"2022-07-11\",\"2022-07-14\",\"2022-07-18\"],\"xaxis\":\"x\",\"y\":[0.010612244897959184,0.006530612244897959,0.009795918367346938,0.006530612244897959,0.004897959183673469,0.004897959183673469,0.006530612244897959,0.005714285714285714,0.006530612244897959,0.00816326530612245,0.005714285714285714,0.004081632653061225,0.008979591836734694,0.009795918367346938,0.004897959183673469,0.006530612244897959,0.004897959183673469,0.008979591836734694,0.008979591836734694,0.004897959183673469,0.008979591836734694,0.005714285714285714,0.004897959183673469,0.012244897959183673,0.006530612244897959,0.010612244897959184,0.00816326530612245,0.007346938775510204,0.008979591836734694,0.00816326530612245,0.009795918367346938,0.004897959183673469,0.009795918367346938,0.00816326530612245,0.0024489795918367346,0.010612244897959184,0.009795918367346938,0.0016326530612244899,0.012244897959183673,0.00816326530612245,0.007346938775510204,0.004897959183673469,0.005714285714285714,0.008979591836734694,0.011428571428571429,0.02857142857142857,0.037551020408163265,0.03836734693877551,0.022857142857142857,0.03510204081632653,0.08244897959183674,0.053061224489795916,0.03428571428571429,0.027755102040816326,0.019591836734693877,0.018775510204081632,0.015510204081632653,0.018775510204081632,0.011428571428571429,0.013877551020408163,0.017142857142857144,0.013877551020408163,0.011428571428571429,0.00816326530612245,0.009795918367346938,0.004897959183673469,0.005714285714285714,0.008979591836734694,0.00816326530612245,0.007346938775510204,0.010612244897959184,0.0016326530612244899,0.004897959183673469,0.0,0.0,0.0008163265306122449,0.0,0.0,0.0,0.0024489795918367346,0.013877551020408163,0.006530612244897959,0.0032653061224489797,0.0032653061224489797,0.009795918367346938,0.004897959183673469,0.006530612244897959,0.004897959183673469,0.007346938775510204,0.0024489795918367346,0.0032653061224489797,0.0032653061224489797,0.0024489795918367346,0.004081632653061225,0.0016326530612244899,0.0032653061224489797,0.0024489795918367346,0.004081632653061225,0.0016326530612244899,0.0016326530612244899],\"yaxis\":\"y\",\"type\":\"scatter\"},{\"hovertemplate\":\"variable=putineveryday\\u003cbr\\u003eDate=%{x}\\u003cbr\\u003evalue=%{y}\\u003cextra\\u003e\\u003c\\u002fextra\\u003e\",\"legendgroup\":\"putineveryday\",\"line\":{\"color\":\"#B6E880\",\"dash\":\"solid\"},\"marker\":{\"symbol\":\"circle\"},\"mode\":\"lines\",\"name\":\"putineveryday\",\"orientation\":\"v\",\"showlegend\":true,\"x\":[\"2021-10-12\",\"2021-10-15\",\"2021-10-18\",\"2021-10-21\",\"2021-10-24\",\"2021-10-27\",\"2021-10-30\",\"2021-11-02\",\"2021-11-04\",\"2021-11-06\",\"2021-11-08\",\"2021-11-11\",\"2021-11-13\",\"2021-11-16\",\"2021-11-20\",\"2021-11-23\",\"2021-11-26\",\"2021-11-29\",\"2021-12-02\",\"2021-12-05\",\"2021-12-09\",\"2021-12-12\",\"2021-12-15\",\"2021-12-19\",\"2021-12-22\",\"2021-12-26\",\"2021-12-30\",\"2022-01-02\",\"2022-01-06\",\"2022-01-09\",\"2022-01-13\",\"2022-01-16\",\"2022-01-19\",\"2022-01-22\",\"2022-01-25\",\"2022-01-28\",\"2022-01-31\",\"2022-02-02\",\"2022-02-05\",\"2022-02-08\",\"2022-02-11\",\"2022-02-14\",\"2022-02-17\",\"2022-02-20\",\"2022-02-23\",\"2022-02-26\",\"2022-03-01\",\"2022-03-04\",\"2022-03-07\",\"2022-03-10\",\"2022-03-11\",\"2022-03-12\",\"2022-03-14\",\"2022-03-16\",\"2022-03-18\",\"2022-03-21\",\"2022-03-23\",\"2022-03-25\",\"2022-03-28\",\"2022-03-30\",\"2022-04-01\",\"2022-04-04\",\"2022-04-06\",\"2022-04-09\",\"2022-04-12\",\"2022-04-14\",\"2022-04-17\",\"2022-04-20\",\"2022-04-23\",\"2022-04-26\",\"2022-04-29\",\"2022-05-02\",\"2022-05-04\",\"2022-05-05\",\"2022-05-05\",\"2022-05-05\",\"2022-05-05\",\"2022-05-05\",\"2022-05-05\",\"2022-05-06\",\"2022-05-09\",\"2022-05-13\",\"2022-05-16\",\"2022-05-20\",\"2022-05-23\",\"2022-05-27\",\"2022-05-31\",\"2022-06-04\",\"2022-06-08\",\"2022-06-12\",\"2022-06-16\",\"2022-06-19\",\"2022-06-22\",\"2022-06-26\",\"2022-06-29\",\"2022-07-03\",\"2022-07-07\",\"2022-07-11\",\"2022-07-14\",\"2022-07-18\"],\"xaxis\":\"x\",\"y\":[0.028985507246376812,0.007246376811594203,0.014492753623188406,0.028985507246376812,0.021739130434782608,0.014492753623188406,0.014492753623188406,0.007246376811594203,0.007246376811594203,0.014492753623188406,0.007246376811594203,0.021739130434782608,0.0,0.014492753623188406,0.0,0.0,0.014492753623188406,0.007246376811594203,0.0,0.0,0.014492753623188406,0.0,0.028985507246376812,0.014492753623188406,0.007246376811594203,0.0,0.014492753623188406,0.007246376811594203,0.028985507246376812,0.007246376811594203,0.021739130434782608,0.0,0.007246376811594203,0.0,0.014492753623188406,0.007246376811594203,0.007246376811594203,0.014492753623188406,0.0,0.014492753623188406,0.0,0.0,0.021739130434782608,0.007246376811594203,0.021739130434782608,0.007246376811594203,0.028985507246376812,0.10144927536231885,0.021739130434782608,0.028985507246376812,0.014492753623188406,0.043478260869565216,0.021739130434782608,0.014492753623188406,0.014492753623188406,0.007246376811594203,0.014492753623188406,0.0,0.0,0.0,0.007246376811594203,0.021739130434782608,0.014492753623188406,0.007246376811594203,0.0,0.014492753623188406,0.0,0.007246376811594203,0.007246376811594203,0.007246376811594203,0.014492753623188406,0.0,0.0,0.0,0.0,0.0,0.0,0.0,0.0,0.0,0.0,0.007246376811594203,0.0,0.0,0.007246376811594203,0.0,0.0,0.0,0.0,0.007246376811594203,0.014492753623188406,0.0,0.014492753623188406,0.0,0.0,0.007246376811594203,0.007246376811594203,0.014492753623188406,0.007246376811594203,0.007246376811594203],\"yaxis\":\"y\",\"type\":\"scatter\"},{\"hovertemplate\":\"variable=zogolovok\\u003cbr\\u003eDate=%{x}\\u003cbr\\u003evalue=%{y}\\u003cextra\\u003e\\u003c\\u002fextra\\u003e\",\"legendgroup\":\"zogolovok\",\"line\":{\"color\":\"#FF97FF\",\"dash\":\"solid\"},\"marker\":{\"symbol\":\"circle\"},\"mode\":\"lines\",\"name\":\"zogolovok\",\"orientation\":\"v\",\"showlegend\":true,\"x\":[\"2021-10-12\",\"2021-10-15\",\"2021-10-18\",\"2021-10-21\",\"2021-10-24\",\"2021-10-27\",\"2021-10-30\",\"2021-11-02\",\"2021-11-04\",\"2021-11-06\",\"2021-11-08\",\"2021-11-11\",\"2021-11-13\",\"2021-11-16\",\"2021-11-20\",\"2021-11-23\",\"2021-11-26\",\"2021-11-29\",\"2021-12-02\",\"2021-12-05\",\"2021-12-09\",\"2021-12-12\",\"2021-12-15\",\"2021-12-19\",\"2021-12-22\",\"2021-12-26\",\"2021-12-30\",\"2022-01-02\",\"2022-01-06\",\"2022-01-09\",\"2022-01-13\",\"2022-01-16\",\"2022-01-19\",\"2022-01-22\",\"2022-01-25\",\"2022-01-28\",\"2022-01-31\",\"2022-02-02\",\"2022-02-05\",\"2022-02-08\",\"2022-02-11\",\"2022-02-14\",\"2022-02-17\",\"2022-02-20\",\"2022-02-23\",\"2022-02-26\",\"2022-03-01\",\"2022-03-04\",\"2022-03-07\",\"2022-03-10\",\"2022-03-11\",\"2022-03-12\",\"2022-03-14\",\"2022-03-16\",\"2022-03-18\",\"2022-03-21\",\"2022-03-23\",\"2022-03-25\",\"2022-03-28\",\"2022-03-30\",\"2022-04-01\",\"2022-04-04\",\"2022-04-06\",\"2022-04-09\",\"2022-04-12\",\"2022-04-14\",\"2022-04-17\",\"2022-04-20\",\"2022-04-23\",\"2022-04-26\",\"2022-04-29\",\"2022-05-02\",\"2022-05-04\",\"2022-05-05\",\"2022-05-05\",\"2022-05-05\",\"2022-05-05\",\"2022-05-05\",\"2022-05-05\",\"2022-05-06\",\"2022-05-09\",\"2022-05-13\",\"2022-05-16\",\"2022-05-20\",\"2022-05-23\",\"2022-05-27\",\"2022-05-31\",\"2022-06-04\",\"2022-06-08\",\"2022-06-12\",\"2022-06-16\",\"2022-06-19\",\"2022-06-22\",\"2022-06-26\",\"2022-06-29\",\"2022-07-03\",\"2022-07-07\",\"2022-07-11\",\"2022-07-14\",\"2022-07-18\"],\"xaxis\":\"x\",\"y\":[0.012371134020618556,0.018144329896907216,0.014845360824742268,0.01443298969072165,0.018556701030927835,0.017731958762886597,0.014845360824742268,0.013195876288659794,0.012371134020618556,0.010721649484536083,0.010309278350515464,0.010721649484536083,0.016494845360824743,0.010309278350515464,0.014020618556701031,0.013608247422680412,0.009072164948453608,0.010721649484536083,0.013608247422680412,0.012371134020618556,0.012371134020618556,0.01443298969072165,0.014845360824742268,0.012371134020618556,0.014020618556701031,0.0111340206185567,0.012783505154639175,0.012783505154639175,0.010309278350515464,0.010721649484536083,0.012783505154639175,0.009896907216494845,0.006597938144329897,0.011958762886597939,0.01154639175257732,0.009072164948453608,0.009072164948453608,0.004123711340206186,0.010721649484536083,0.010721649484536083,0.010721649484536083,0.009072164948453608,0.012783505154639175,0.0070103092783505155,0.009484536082474227,0.009072164948453608,0.0070103092783505155,0.010721649484536083,0.0111340206185567,0.00865979381443299,0.008247422680412371,0.006597938144329897,0.00865979381443299,0.012371134020618556,0.011958762886597939,0.0070103092783505155,0.008247422680412371,0.0070103092783505155,0.009484536082474227,0.008247422680412371,0.012371134020618556,0.007422680412371134,0.007422680412371134,0.0053608247422680414,0.007835051546391752,0.009072164948453608,0.0111340206185567,0.012371134020618556,0.007422680412371134,0.013195876288659794,0.015257731958762887,0.0111340206185567,0.002061855670103093,0.0,0.0004123711340206186,0.0004123711340206186,0.0,0.0,0.0,0.009484536082474227,0.012371134020618556,0.009484536082474227,0.006185567010309278,0.010721649484536083,0.011958762886597939,0.008247422680412371,0.013608247422680412,0.012371134020618556,0.00577319587628866,0.011958762886597939,0.009896907216494845,0.007835051546391752,0.014845360824742268,0.004948453608247422,0.006597938144329897,0.009896907216494845,0.007835051546391752,0.011958762886597939,0.009484536082474227,0.007422680412371134],\"yaxis\":\"y\",\"type\":\"scatter\"}],                        {\"template\":{\"data\":{\"histogram2dcontour\":[{\"type\":\"histogram2dcontour\",\"colorbar\":{\"outlinewidth\":0,\"ticks\":\"\"},\"colorscale\":[[0.0,\"#0d0887\"],[0.1111111111111111,\"#46039f\"],[0.2222222222222222,\"#7201a8\"],[0.3333333333333333,\"#9c179e\"],[0.4444444444444444,\"#bd3786\"],[0.5555555555555556,\"#d8576b\"],[0.6666666666666666,\"#ed7953\"],[0.7777777777777778,\"#fb9f3a\"],[0.8888888888888888,\"#fdca26\"],[1.0,\"#f0f921\"]]}],\"choropleth\":[{\"type\":\"choropleth\",\"colorbar\":{\"outlinewidth\":0,\"ticks\":\"\"}}],\"histogram2d\":[{\"type\":\"histogram2d\",\"colorbar\":{\"outlinewidth\":0,\"ticks\":\"\"},\"colorscale\":[[0.0,\"#0d0887\"],[0.1111111111111111,\"#46039f\"],[0.2222222222222222,\"#7201a8\"],[0.3333333333333333,\"#9c179e\"],[0.4444444444444444,\"#bd3786\"],[0.5555555555555556,\"#d8576b\"],[0.6666666666666666,\"#ed7953\"],[0.7777777777777778,\"#fb9f3a\"],[0.8888888888888888,\"#fdca26\"],[1.0,\"#f0f921\"]]}],\"heatmap\":[{\"type\":\"heatmap\",\"colorbar\":{\"outlinewidth\":0,\"ticks\":\"\"},\"colorscale\":[[0.0,\"#0d0887\"],[0.1111111111111111,\"#46039f\"],[0.2222222222222222,\"#7201a8\"],[0.3333333333333333,\"#9c179e\"],[0.4444444444444444,\"#bd3786\"],[0.5555555555555556,\"#d8576b\"],[0.6666666666666666,\"#ed7953\"],[0.7777777777777778,\"#fb9f3a\"],[0.8888888888888888,\"#fdca26\"],[1.0,\"#f0f921\"]]}],\"heatmapgl\":[{\"type\":\"heatmapgl\",\"colorbar\":{\"outlinewidth\":0,\"ticks\":\"\"},\"colorscale\":[[0.0,\"#0d0887\"],[0.1111111111111111,\"#46039f\"],[0.2222222222222222,\"#7201a8\"],[0.3333333333333333,\"#9c179e\"],[0.4444444444444444,\"#bd3786\"],[0.5555555555555556,\"#d8576b\"],[0.6666666666666666,\"#ed7953\"],[0.7777777777777778,\"#fb9f3a\"],[0.8888888888888888,\"#fdca26\"],[1.0,\"#f0f921\"]]}],\"contourcarpet\":[{\"type\":\"contourcarpet\",\"colorbar\":{\"outlinewidth\":0,\"ticks\":\"\"}}],\"contour\":[{\"type\":\"contour\",\"colorbar\":{\"outlinewidth\":0,\"ticks\":\"\"},\"colorscale\":[[0.0,\"#0d0887\"],[0.1111111111111111,\"#46039f\"],[0.2222222222222222,\"#7201a8\"],[0.3333333333333333,\"#9c179e\"],[0.4444444444444444,\"#bd3786\"],[0.5555555555555556,\"#d8576b\"],[0.6666666666666666,\"#ed7953\"],[0.7777777777777778,\"#fb9f3a\"],[0.8888888888888888,\"#fdca26\"],[1.0,\"#f0f921\"]]}],\"surface\":[{\"type\":\"surface\",\"colorbar\":{\"outlinewidth\":0,\"ticks\":\"\"},\"colorscale\":[[0.0,\"#0d0887\"],[0.1111111111111111,\"#46039f\"],[0.2222222222222222,\"#7201a8\"],[0.3333333333333333,\"#9c179e\"],[0.4444444444444444,\"#bd3786\"],[0.5555555555555556,\"#d8576b\"],[0.6666666666666666,\"#ed7953\"],[0.7777777777777778,\"#fb9f3a\"],[0.8888888888888888,\"#fdca26\"],[1.0,\"#f0f921\"]]}],\"mesh3d\":[{\"type\":\"mesh3d\",\"colorbar\":{\"outlinewidth\":0,\"ticks\":\"\"}}],\"scatter\":[{\"fillpattern\":{\"fillmode\":\"overlay\",\"size\":10,\"solidity\":0.2},\"type\":\"scatter\"}],\"parcoords\":[{\"type\":\"parcoords\",\"line\":{\"colorbar\":{\"outlinewidth\":0,\"ticks\":\"\"}}}],\"scatterpolargl\":[{\"type\":\"scatterpolargl\",\"marker\":{\"colorbar\":{\"outlinewidth\":0,\"ticks\":\"\"}}}],\"bar\":[{\"error_x\":{\"color\":\"#2a3f5f\"},\"error_y\":{\"color\":\"#2a3f5f\"},\"marker\":{\"line\":{\"color\":\"#E5ECF6\",\"width\":0.5},\"pattern\":{\"fillmode\":\"overlay\",\"size\":10,\"solidity\":0.2}},\"type\":\"bar\"}],\"scattergeo\":[{\"type\":\"scattergeo\",\"marker\":{\"colorbar\":{\"outlinewidth\":0,\"ticks\":\"\"}}}],\"scatterpolar\":[{\"type\":\"scatterpolar\",\"marker\":{\"colorbar\":{\"outlinewidth\":0,\"ticks\":\"\"}}}],\"histogram\":[{\"marker\":{\"pattern\":{\"fillmode\":\"overlay\",\"size\":10,\"solidity\":0.2}},\"type\":\"histogram\"}],\"scattergl\":[{\"type\":\"scattergl\",\"marker\":{\"colorbar\":{\"outlinewidth\":0,\"ticks\":\"\"}}}],\"scatter3d\":[{\"type\":\"scatter3d\",\"line\":{\"colorbar\":{\"outlinewidth\":0,\"ticks\":\"\"}},\"marker\":{\"colorbar\":{\"outlinewidth\":0,\"ticks\":\"\"}}}],\"scattermapbox\":[{\"type\":\"scattermapbox\",\"marker\":{\"colorbar\":{\"outlinewidth\":0,\"ticks\":\"\"}}}],\"scatterternary\":[{\"type\":\"scatterternary\",\"marker\":{\"colorbar\":{\"outlinewidth\":0,\"ticks\":\"\"}}}],\"scattercarpet\":[{\"type\":\"scattercarpet\",\"marker\":{\"colorbar\":{\"outlinewidth\":0,\"ticks\":\"\"}}}],\"carpet\":[{\"aaxis\":{\"endlinecolor\":\"#2a3f5f\",\"gridcolor\":\"white\",\"linecolor\":\"white\",\"minorgridcolor\":\"white\",\"startlinecolor\":\"#2a3f5f\"},\"baxis\":{\"endlinecolor\":\"#2a3f5f\",\"gridcolor\":\"white\",\"linecolor\":\"white\",\"minorgridcolor\":\"white\",\"startlinecolor\":\"#2a3f5f\"},\"type\":\"carpet\"}],\"table\":[{\"cells\":{\"fill\":{\"color\":\"#EBF0F8\"},\"line\":{\"color\":\"white\"}},\"header\":{\"fill\":{\"color\":\"#C8D4E3\"},\"line\":{\"color\":\"white\"}},\"type\":\"table\"}],\"barpolar\":[{\"marker\":{\"line\":{\"color\":\"#E5ECF6\",\"width\":0.5},\"pattern\":{\"fillmode\":\"overlay\",\"size\":10,\"solidity\":0.2}},\"type\":\"barpolar\"}],\"pie\":[{\"automargin\":true,\"type\":\"pie\"}]},\"layout\":{\"autotypenumbers\":\"strict\",\"colorway\":[\"#636efa\",\"#EF553B\",\"#00cc96\",\"#ab63fa\",\"#FFA15A\",\"#19d3f3\",\"#FF6692\",\"#B6E880\",\"#FF97FF\",\"#FECB52\"],\"font\":{\"color\":\"#2a3f5f\"},\"hovermode\":\"closest\",\"hoverlabel\":{\"align\":\"left\"},\"paper_bgcolor\":\"white\",\"plot_bgcolor\":\"#E5ECF6\",\"polar\":{\"bgcolor\":\"#E5ECF6\",\"angularaxis\":{\"gridcolor\":\"white\",\"linecolor\":\"white\",\"ticks\":\"\"},\"radialaxis\":{\"gridcolor\":\"white\",\"linecolor\":\"white\",\"ticks\":\"\"}},\"ternary\":{\"bgcolor\":\"#E5ECF6\",\"aaxis\":{\"gridcolor\":\"white\",\"linecolor\":\"white\",\"ticks\":\"\"},\"baxis\":{\"gridcolor\":\"white\",\"linecolor\":\"white\",\"ticks\":\"\"},\"caxis\":{\"gridcolor\":\"white\",\"linecolor\":\"white\",\"ticks\":\"\"}},\"coloraxis\":{\"colorbar\":{\"outlinewidth\":0,\"ticks\":\"\"}},\"colorscale\":{\"sequential\":[[0.0,\"#0d0887\"],[0.1111111111111111,\"#46039f\"],[0.2222222222222222,\"#7201a8\"],[0.3333333333333333,\"#9c179e\"],[0.4444444444444444,\"#bd3786\"],[0.5555555555555556,\"#d8576b\"],[0.6666666666666666,\"#ed7953\"],[0.7777777777777778,\"#fb9f3a\"],[0.8888888888888888,\"#fdca26\"],[1.0,\"#f0f921\"]],\"sequentialminus\":[[0.0,\"#0d0887\"],[0.1111111111111111,\"#46039f\"],[0.2222222222222222,\"#7201a8\"],[0.3333333333333333,\"#9c179e\"],[0.4444444444444444,\"#bd3786\"],[0.5555555555555556,\"#d8576b\"],[0.6666666666666666,\"#ed7953\"],[0.7777777777777778,\"#fb9f3a\"],[0.8888888888888888,\"#fdca26\"],[1.0,\"#f0f921\"]],\"diverging\":[[0,\"#8e0152\"],[0.1,\"#c51b7d\"],[0.2,\"#de77ae\"],[0.3,\"#f1b6da\"],[0.4,\"#fde0ef\"],[0.5,\"#f7f7f7\"],[0.6,\"#e6f5d0\"],[0.7,\"#b8e186\"],[0.8,\"#7fbc41\"],[0.9,\"#4d9221\"],[1,\"#276419\"]]},\"xaxis\":{\"gridcolor\":\"white\",\"linecolor\":\"white\",\"ticks\":\"\",\"title\":{\"standoff\":15},\"zerolinecolor\":\"white\",\"automargin\":true,\"zerolinewidth\":2},\"yaxis\":{\"gridcolor\":\"white\",\"linecolor\":\"white\",\"ticks\":\"\",\"title\":{\"standoff\":15},\"zerolinecolor\":\"white\",\"automargin\":true,\"zerolinewidth\":2},\"scene\":{\"xaxis\":{\"backgroundcolor\":\"#E5ECF6\",\"gridcolor\":\"white\",\"linecolor\":\"white\",\"showbackground\":true,\"ticks\":\"\",\"zerolinecolor\":\"white\",\"gridwidth\":2},\"yaxis\":{\"backgroundcolor\":\"#E5ECF6\",\"gridcolor\":\"white\",\"linecolor\":\"white\",\"showbackground\":true,\"ticks\":\"\",\"zerolinecolor\":\"white\",\"gridwidth\":2},\"zaxis\":{\"backgroundcolor\":\"#E5ECF6\",\"gridcolor\":\"white\",\"linecolor\":\"white\",\"showbackground\":true,\"ticks\":\"\",\"zerolinecolor\":\"white\",\"gridwidth\":2}},\"shapedefaults\":{\"line\":{\"color\":\"#2a3f5f\"}},\"annotationdefaults\":{\"arrowcolor\":\"#2a3f5f\",\"arrowhead\":0,\"arrowwidth\":1},\"geo\":{\"bgcolor\":\"white\",\"landcolor\":\"#E5ECF6\",\"subunitcolor\":\"white\",\"showland\":true,\"showlakes\":true,\"lakecolor\":\"white\"},\"title\":{\"x\":0.05},\"mapbox\":{\"style\":\"light\"}}},\"xaxis\":{\"anchor\":\"y\",\"domain\":[0.0,1.0],\"title\":{\"text\":\"Date\"}},\"yaxis\":{\"anchor\":\"x\",\"domain\":[0.0,1.0],\"title\":{\"text\":\"value\"}},\"legend\":{\"title\":{\"text\":\"variable\"},\"tracegroupgap\":0},\"title\":{\"text\":\"Number of members by registration date  (No baseline)\"}},                        {\"toImageButtonOptions\": {\"format\": \"png\", \"filename\": \"custom_image\", \"height\": 400, \"width\": 1000, \"scale\": 4}, \"responsive\": true}                    ).then(function(){\n",
              "                            \n",
              "var gd = document.getElementById('080ca2dc-4dcd-43c5-b02e-f243c42fa637');\n",
              "var x = new MutationObserver(function (mutations, observer) {{\n",
              "        var display = window.getComputedStyle(gd).display;\n",
              "        if (!display || display === 'none') {{\n",
              "            console.log([gd, 'removed!']);\n",
              "            Plotly.purge(gd);\n",
              "            observer.disconnect();\n",
              "        }}\n",
              "}});\n",
              "\n",
              "// Listen for the removal of the full notebook cells\n",
              "var notebookContainer = gd.closest('#notebook-container');\n",
              "if (notebookContainer) {{\n",
              "    x.observe(notebookContainer, {childList: true});\n",
              "}}\n",
              "\n",
              "// Listen for the clearing of the current output cell\n",
              "var outputEl = gd.closest('.output');\n",
              "if (outputEl) {{\n",
              "    x.observe(outputEl, {childList: true});\n",
              "}}\n",
              "\n",
              "                        })                };                            </script>        </div>\n",
              "</body>\n",
              "</html>"
            ]
          },
          "metadata": {}
        }
      ]
    },
    {
      "cell_type": "code",
      "source": [
        "tlim_pre = ['2021-12-26', '2022-02-23']\n",
        "tlim_post = ['2022-02-24', '2022-04-24']\n",
        "\n",
        "tlim_pre = [datetime.date.fromisoformat(d) for d in tlim_pre]\n",
        "tlim_post = [datetime.date.fromisoformat(d) for d in tlim_post]\n",
        "\n",
        "mask_pre = (df.Date >= tlim_pre[0]) & (df.Date <= tlim_pre[1])\n",
        "mask_post = (df.Date >= tlim_post[0]) & (df.Date <= tlim_post[1])\n",
        "\n",
        "data_pre = df[mask_pre].iloc[:, 1:].mean()\n",
        "data_post = df[mask_post].iloc[:, 1:].mean()\n",
        "\n",
        "Q = data_post / data_pre\n",
        "print(Q)"
      ],
      "metadata": {
        "colab": {
          "base_uri": "https://localhost:8080/"
        },
        "id": "eLVO2iIejJ8S",
        "outputId": "7b8bbaf2-3598-4ec1-e7f0-7e5cab50cfd9"
      },
      "execution_count": null,
      "outputs": [
        {
          "output_type": "stream",
          "name": "stdout",
          "text": [
            "putin_z                    2.950794\n",
            "vladimir_vladimirovichp    3.415996\n",
            "putin_govorit              2.349270\n",
            "putintoday                 3.693759\n",
            "moskvaputinu               2.463181\n",
            "putin_lider                2.815712\n",
            "moy_putin                  2.858974\n",
            "putineveryday              1.697531\n",
            "zogolovok                  0.880663\n",
            "dtype: float64\n"
          ]
        }
      ]
    },
    {
      "cell_type": "code",
      "source": [],
      "metadata": {
        "id": "DFHNLFeZNEFC"
      },
      "execution_count": null,
      "outputs": []
    }
  ]
}